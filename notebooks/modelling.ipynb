{
 "cells": [
  {
   "cell_type": "code",
   "execution_count": 1,
   "id": "c3b322b2",
   "metadata": {},
   "outputs": [],
   "source": [
    "import os\n",
    "import sys\n",
    "import numpy as np\n",
    "import pandas as pd\n",
    "from wordcloud import WordCloud, STOPWORDS\n",
    "from sklearn.model_selection import train_test_split\n",
    "from sklearn.preprocessing import StandardScaler, MinMaxScaler\n",
    "from sklearn.preprocessing import LabelEncoder\n",
    "from sklearn.feature_extraction.text import TfidfVectorizer\n",
    "from sklearn.model_selection import cross_val_score, GridSearchCV\n",
    "from sklearn.metrics import mean_squared_error, mean_absolute_error\n",
    "from xgboost import XGBRegressor\n",
    "from sklearn.pipeline import make_pipeline, Pipeline, FunctionTransformer\n",
    "from sklearn.base import BaseEstimator, TransformerMixin\n",
    "from sklearn.compose import make_column_transformer, make_column_selector, ColumnTransformer\n",
    "from sklearn import set_config\n",
    "import joblib\n"
   ]
  },
  {
   "cell_type": "code",
   "execution_count": 2,
   "id": "7f678432",
   "metadata": {},
   "outputs": [
    {
     "data": {
      "application/vnd.microsoft.datawrangler.viewer.v0+json": {
       "columns": [
        {
         "name": "index",
         "rawType": "int64",
         "type": "integer"
        },
        {
         "name": "Unnamed: 0",
         "rawType": "int64",
         "type": "integer"
        },
        {
         "name": "Impressions",
         "rawType": "int64",
         "type": "integer"
        },
        {
         "name": "From Home",
         "rawType": "int64",
         "type": "integer"
        },
        {
         "name": "From Hashtags",
         "rawType": "int64",
         "type": "integer"
        },
        {
         "name": "From Explore",
         "rawType": "int64",
         "type": "integer"
        },
        {
         "name": "From Other",
         "rawType": "int64",
         "type": "integer"
        },
        {
         "name": "Saves",
         "rawType": "int64",
         "type": "integer"
        },
        {
         "name": "Comments",
         "rawType": "int64",
         "type": "integer"
        },
        {
         "name": "Shares",
         "rawType": "int64",
         "type": "integer"
        },
        {
         "name": "Likes",
         "rawType": "int64",
         "type": "integer"
        },
        {
         "name": "Profile Visits",
         "rawType": "int64",
         "type": "integer"
        },
        {
         "name": "Follows",
         "rawType": "int64",
         "type": "integer"
        },
        {
         "name": "Caption",
         "rawType": "object",
         "type": "string"
        },
        {
         "name": "Hashtags",
         "rawType": "object",
         "type": "string"
        },
        {
         "name": "Timestamp",
         "rawType": "object",
         "type": "string"
        },
        {
         "name": "Content Type",
         "rawType": "object",
         "type": "string"
        },
        {
         "name": "CaptionLength",
         "rawType": "int64",
         "type": "integer"
        },
        {
         "name": "DayOfWeek",
         "rawType": "int64",
         "type": "integer"
        },
        {
         "name": "EngagementRate",
         "rawType": "float64",
         "type": "float"
        },
        {
         "name": "HashtagCount",
         "rawType": "int64",
         "type": "integer"
        },
        {
         "name": "HashtagDensity",
         "rawType": "float64",
         "type": "float"
        },
        {
         "name": "FromHomeRatio",
         "rawType": "float64",
         "type": "float"
        },
        {
         "name": "FromHashtagsRatio",
         "rawType": "float64",
         "type": "float"
        },
        {
         "name": "FromExploreRatio",
         "rawType": "float64",
         "type": "float"
        },
        {
         "name": "FromOtherRatio",
         "rawType": "float64",
         "type": "float"
        },
        {
         "name": "IsWeekend",
         "rawType": "int64",
         "type": "integer"
        },
        {
         "name": "Month",
         "rawType": "int64",
         "type": "integer"
        },
        {
         "name": "HourOfDay",
         "rawType": "int64",
         "type": "integer"
        },
        {
         "name": "NumOfHashtags",
         "rawType": "int64",
         "type": "integer"
        }
       ],
       "ref": "657f4726-c88f-44b7-b462-1b92057b691f",
       "rows": [
        [
         "0",
         "0",
         "3920",
         "2586",
         "1028",
         "619",
         "56",
         "98",
         "9",
         "5",
         "162",
         "35",
         "2",
         "important data visualization every financial data analystscientist know",
         "#finance#money#business#investing#investment#trading#stockmarket#data#datascience#dataanalysis#dataanalytics#datascientist#machinelearning#python#pythonprogramming#pythonprojects#pythoncode#artificialintelligence#ai#dataanalyst#amankharwal#thecleverprogrammer",
         "2024-05-14 22:59:29.747899160",
         "carousel",
         "8",
         "1",
         "0.0698979591836734",
         "1",
         "0.1111111111111111",
         "0.6596938775510204",
         "0.2622448979591836",
         "0.1579081632653061",
         "0.0142857142857142",
         "0",
         "5",
         "22",
         "22"
        ],
        [
         "1",
         "1",
         "5394",
         "2727",
         "1838",
         "1174",
         "78",
         "194",
         "7",
         "14",
         "224",
         "48",
         "10",
         "best data science project idea healthcare want become data science professional healthcare domain must try work project",
         "#healthcare#health#covid#data#datascience#dataanalysis#dataanalytics#datascientist#machinelearning#python#pythonprogramming#pythonprojects#pythoncode#artificialintelligence#ai#dataanalyst#amankharwal#thecleverprogrammer",
         "2024-05-24 03:49:54.957983192",
         "carousel",
         "17",
         "4",
         "0.0813867259918427",
         "1",
         "0.0555555555555555",
         "0.5055617352614016",
         "0.3407489803485354",
         "0.2176492398961809",
         "0.014460511679644",
         "0",
         "5",
         "3",
         "18"
        ],
        [
         "2",
         "2",
         "4021",
         "2085",
         "1188",
         "0",
         "533",
         "41",
         "11",
         "1",
         "131",
         "62",
         "12",
         "learn train machine learning model giving input trained model make prediction using python",
         "#data#datascience#dataanalysis#dataanalytics#datascientist#machinelearning#python#pythonprogramming#pythonprojects#pythoncode#artificialintelligence#ai#deeplearning#machinelearningprojects#datascienceprojects#amankharwal#thecleverprogrammer#machinelearningmodels",
         "2024-01-13 06:27:13.613445378",
         "image",
         "13",
         "5",
         "0.0457597612534195",
         "1",
         "0.0714285714285714",
         "0.5185277294205421",
         "0.2954488933101218",
         "0.0",
         "0.1325540910221338",
         "1",
         "1",
         "6",
         "18"
        ],
        [
         "3",
         "3",
         "4528",
         "2700",
         "621",
         "932",
         "73",
         "172",
         "10",
         "7",
         "213",
         "23",
         "8",
         "here write python program detect whether sentence question idea find word see beginning question beginning sentence",
         "#python#pythonprogramming#pythonprojects#pythoncode#pythonlearning#pythondeveloper#pythoncoding#pythonprogrammer#amankharwal#thecleverprogrammer#pythonprojects",
         "2024-06-17 16:44:22.184873950",
         "carousel",
         "16",
         "0",
         "0.0887809187279152",
         "1",
         "0.0588235294117647",
         "0.5962897526501767",
         "0.1371466431095406",
         "0.2058303886925795",
         "0.0161219081272084",
         "0",
         "6",
         "16",
         "11"
        ],
        [
         "4",
         "4",
         "2518",
         "1704",
         "255",
         "279",
         "37",
         "96",
         "5",
         "4",
         "123",
         "8",
         "0",
         "plotting annotation visualizing data considered good practice make graph selfexplanatory example annotate graph using python",
         "#datavisualization#datascience#data#dataanalytics#machinelearning#dataanalysis#artificialintelligence#python#datascientist#bigdata#deeplearning#dataviz#ai#analytics#technology#dataanalyst#programming#pythonprogramming#statistics#coding#businessintelligence#datamining#tech#business#computerscience#tableau#database#thecleverprogrammer#amankharwal",
         "2024-03-20 17:56:58.487394958",
         "video",
         "15",
         "2",
         "0.0905480540111199",
         "1",
         "0.0625",
         "0.6767275615567911",
         "0.1012708498808578",
         "0.1108022239872915",
         "0.0146942017474185",
         "0",
         "3",
         "17",
         "29"
        ]
       ],
       "shape": {
        "columns": 29,
        "rows": 5
       }
      },
      "text/html": [
       "<div>\n",
       "<style scoped>\n",
       "    .dataframe tbody tr th:only-of-type {\n",
       "        vertical-align: middle;\n",
       "    }\n",
       "\n",
       "    .dataframe tbody tr th {\n",
       "        vertical-align: top;\n",
       "    }\n",
       "\n",
       "    .dataframe thead th {\n",
       "        text-align: right;\n",
       "    }\n",
       "</style>\n",
       "<table border=\"1\" class=\"dataframe\">\n",
       "  <thead>\n",
       "    <tr style=\"text-align: right;\">\n",
       "      <th></th>\n",
       "      <th>Unnamed: 0</th>\n",
       "      <th>Impressions</th>\n",
       "      <th>From Home</th>\n",
       "      <th>From Hashtags</th>\n",
       "      <th>From Explore</th>\n",
       "      <th>From Other</th>\n",
       "      <th>Saves</th>\n",
       "      <th>Comments</th>\n",
       "      <th>Shares</th>\n",
       "      <th>Likes</th>\n",
       "      <th>...</th>\n",
       "      <th>HashtagCount</th>\n",
       "      <th>HashtagDensity</th>\n",
       "      <th>FromHomeRatio</th>\n",
       "      <th>FromHashtagsRatio</th>\n",
       "      <th>FromExploreRatio</th>\n",
       "      <th>FromOtherRatio</th>\n",
       "      <th>IsWeekend</th>\n",
       "      <th>Month</th>\n",
       "      <th>HourOfDay</th>\n",
       "      <th>NumOfHashtags</th>\n",
       "    </tr>\n",
       "  </thead>\n",
       "  <tbody>\n",
       "    <tr>\n",
       "      <th>0</th>\n",
       "      <td>0</td>\n",
       "      <td>3920</td>\n",
       "      <td>2586</td>\n",
       "      <td>1028</td>\n",
       "      <td>619</td>\n",
       "      <td>56</td>\n",
       "      <td>98</td>\n",
       "      <td>9</td>\n",
       "      <td>5</td>\n",
       "      <td>162</td>\n",
       "      <td>...</td>\n",
       "      <td>1</td>\n",
       "      <td>0.111111</td>\n",
       "      <td>0.659694</td>\n",
       "      <td>0.262245</td>\n",
       "      <td>0.157908</td>\n",
       "      <td>0.014286</td>\n",
       "      <td>0</td>\n",
       "      <td>5</td>\n",
       "      <td>22</td>\n",
       "      <td>22</td>\n",
       "    </tr>\n",
       "    <tr>\n",
       "      <th>1</th>\n",
       "      <td>1</td>\n",
       "      <td>5394</td>\n",
       "      <td>2727</td>\n",
       "      <td>1838</td>\n",
       "      <td>1174</td>\n",
       "      <td>78</td>\n",
       "      <td>194</td>\n",
       "      <td>7</td>\n",
       "      <td>14</td>\n",
       "      <td>224</td>\n",
       "      <td>...</td>\n",
       "      <td>1</td>\n",
       "      <td>0.055556</td>\n",
       "      <td>0.505562</td>\n",
       "      <td>0.340749</td>\n",
       "      <td>0.217649</td>\n",
       "      <td>0.014461</td>\n",
       "      <td>0</td>\n",
       "      <td>5</td>\n",
       "      <td>3</td>\n",
       "      <td>18</td>\n",
       "    </tr>\n",
       "    <tr>\n",
       "      <th>2</th>\n",
       "      <td>2</td>\n",
       "      <td>4021</td>\n",
       "      <td>2085</td>\n",
       "      <td>1188</td>\n",
       "      <td>0</td>\n",
       "      <td>533</td>\n",
       "      <td>41</td>\n",
       "      <td>11</td>\n",
       "      <td>1</td>\n",
       "      <td>131</td>\n",
       "      <td>...</td>\n",
       "      <td>1</td>\n",
       "      <td>0.071429</td>\n",
       "      <td>0.518528</td>\n",
       "      <td>0.295449</td>\n",
       "      <td>0.000000</td>\n",
       "      <td>0.132554</td>\n",
       "      <td>1</td>\n",
       "      <td>1</td>\n",
       "      <td>6</td>\n",
       "      <td>18</td>\n",
       "    </tr>\n",
       "    <tr>\n",
       "      <th>3</th>\n",
       "      <td>3</td>\n",
       "      <td>4528</td>\n",
       "      <td>2700</td>\n",
       "      <td>621</td>\n",
       "      <td>932</td>\n",
       "      <td>73</td>\n",
       "      <td>172</td>\n",
       "      <td>10</td>\n",
       "      <td>7</td>\n",
       "      <td>213</td>\n",
       "      <td>...</td>\n",
       "      <td>1</td>\n",
       "      <td>0.058824</td>\n",
       "      <td>0.596290</td>\n",
       "      <td>0.137147</td>\n",
       "      <td>0.205830</td>\n",
       "      <td>0.016122</td>\n",
       "      <td>0</td>\n",
       "      <td>6</td>\n",
       "      <td>16</td>\n",
       "      <td>11</td>\n",
       "    </tr>\n",
       "    <tr>\n",
       "      <th>4</th>\n",
       "      <td>4</td>\n",
       "      <td>2518</td>\n",
       "      <td>1704</td>\n",
       "      <td>255</td>\n",
       "      <td>279</td>\n",
       "      <td>37</td>\n",
       "      <td>96</td>\n",
       "      <td>5</td>\n",
       "      <td>4</td>\n",
       "      <td>123</td>\n",
       "      <td>...</td>\n",
       "      <td>1</td>\n",
       "      <td>0.062500</td>\n",
       "      <td>0.676728</td>\n",
       "      <td>0.101271</td>\n",
       "      <td>0.110802</td>\n",
       "      <td>0.014694</td>\n",
       "      <td>0</td>\n",
       "      <td>3</td>\n",
       "      <td>17</td>\n",
       "      <td>29</td>\n",
       "    </tr>\n",
       "  </tbody>\n",
       "</table>\n",
       "<p>5 rows × 29 columns</p>\n",
       "</div>"
      ],
      "text/plain": [
       "   Unnamed: 0  Impressions  From Home  From Hashtags  From Explore  \\\n",
       "0           0         3920       2586           1028           619   \n",
       "1           1         5394       2727           1838          1174   \n",
       "2           2         4021       2085           1188             0   \n",
       "3           3         4528       2700            621           932   \n",
       "4           4         2518       1704            255           279   \n",
       "\n",
       "   From Other  Saves  Comments  Shares  Likes  ...  HashtagCount  \\\n",
       "0          56     98         9       5    162  ...             1   \n",
       "1          78    194         7      14    224  ...             1   \n",
       "2         533     41        11       1    131  ...             1   \n",
       "3          73    172        10       7    213  ...             1   \n",
       "4          37     96         5       4    123  ...             1   \n",
       "\n",
       "   HashtagDensity FromHomeRatio FromHashtagsRatio FromExploreRatio  \\\n",
       "0        0.111111      0.659694          0.262245         0.157908   \n",
       "1        0.055556      0.505562          0.340749         0.217649   \n",
       "2        0.071429      0.518528          0.295449         0.000000   \n",
       "3        0.058824      0.596290          0.137147         0.205830   \n",
       "4        0.062500      0.676728          0.101271         0.110802   \n",
       "\n",
       "  FromOtherRatio  IsWeekend  Month  HourOfDay  NumOfHashtags  \n",
       "0       0.014286          0      5         22             22  \n",
       "1       0.014461          0      5          3             18  \n",
       "2       0.132554          1      1          6             18  \n",
       "3       0.016122          0      6         16             11  \n",
       "4       0.014694          0      3         17             29  \n",
       "\n",
       "[5 rows x 29 columns]"
      ]
     },
     "execution_count": 2,
     "metadata": {},
     "output_type": "execute_result"
    }
   ],
   "source": [
    "#sys.path.append(os.path.abspath('../data'))\n",
    "df = pd.read_csv(\"../data/processed/clean_data.csv\", encoding = 'utf-8', encoding_errors=\"ignore\")\n",
    "(df.head())"
   ]
  },
  {
   "cell_type": "code",
   "execution_count": 3,
   "id": "38641389",
   "metadata": {},
   "outputs": [],
   "source": [
    "df = df.drop(\"Unnamed: 0\", axis=1)"
   ]
  },
  {
   "cell_type": "code",
   "execution_count": 4,
   "id": "689075d7",
   "metadata": {},
   "outputs": [
    {
     "data": {
      "text/plain": [
       "(119, 28)"
      ]
     },
     "execution_count": 4,
     "metadata": {},
     "output_type": "execute_result"
    }
   ],
   "source": [
    "df.shape"
   ]
  },
  {
   "cell_type": "code",
   "execution_count": 5,
   "id": "1245f34c",
   "metadata": {},
   "outputs": [
    {
     "data": {
      "text/plain": [
       "Index(['Impressions', 'From Home', 'From Hashtags', 'From Explore',\n",
       "       'From Other', 'Saves', 'Comments', 'Shares', 'Likes', 'Profile Visits',\n",
       "       'Follows', 'Caption', 'Hashtags', 'Timestamp', 'Content Type',\n",
       "       'CaptionLength', 'DayOfWeek', 'EngagementRate', 'HashtagCount',\n",
       "       'HashtagDensity', 'FromHomeRatio', 'FromHashtagsRatio',\n",
       "       'FromExploreRatio', 'FromOtherRatio', 'IsWeekend', 'Month', 'HourOfDay',\n",
       "       'NumOfHashtags'],\n",
       "      dtype='object')"
      ]
     },
     "execution_count": 5,
     "metadata": {},
     "output_type": "execute_result"
    }
   ],
   "source": [
    "df.columns"
   ]
  },
  {
   "cell_type": "code",
   "execution_count": 6,
   "id": "4c4c4720",
   "metadata": {},
   "outputs": [],
   "source": [
    "cols = ['From Home', 'From Hashtags', 'From Explore',\n",
    "       'From Other', 'Saves', 'Comments', 'Shares', \n",
    "       'Follows', 'EngagementRate', 'HashtagCount', 'FromHomeRatio',\n",
    "        'FromHashtagsRatio', 'FromExploreRatio', 'FromOtherRatio',]\n",
    "df = df.drop(labels=cols, axis=1)"
   ]
  },
  {
   "cell_type": "code",
   "execution_count": 7,
   "id": "09ee59c9",
   "metadata": {},
   "outputs": [
    {
     "data": {
      "application/vnd.microsoft.datawrangler.viewer.v0+json": {
       "columns": [
        {
         "name": "index",
         "rawType": "int64",
         "type": "integer"
        },
        {
         "name": "Impressions",
         "rawType": "int64",
         "type": "integer"
        },
        {
         "name": "Likes",
         "rawType": "int64",
         "type": "integer"
        },
        {
         "name": "Profile Visits",
         "rawType": "int64",
         "type": "integer"
        },
        {
         "name": "Caption",
         "rawType": "object",
         "type": "string"
        },
        {
         "name": "Hashtags",
         "rawType": "object",
         "type": "string"
        },
        {
         "name": "Timestamp",
         "rawType": "object",
         "type": "string"
        },
        {
         "name": "Content Type",
         "rawType": "object",
         "type": "string"
        },
        {
         "name": "CaptionLength",
         "rawType": "int64",
         "type": "integer"
        },
        {
         "name": "DayOfWeek",
         "rawType": "int64",
         "type": "integer"
        },
        {
         "name": "HashtagDensity",
         "rawType": "float64",
         "type": "float"
        },
        {
         "name": "IsWeekend",
         "rawType": "int64",
         "type": "integer"
        },
        {
         "name": "Month",
         "rawType": "int64",
         "type": "integer"
        },
        {
         "name": "HourOfDay",
         "rawType": "int64",
         "type": "integer"
        },
        {
         "name": "NumOfHashtags",
         "rawType": "int64",
         "type": "integer"
        }
       ],
       "ref": "1eaaf766-0573-462b-9d2b-68a6db50b43f",
       "rows": [
        [
         "0",
         "3920",
         "162",
         "35",
         "important data visualization every financial data analystscientist know",
         "#finance#money#business#investing#investment#trading#stockmarket#data#datascience#dataanalysis#dataanalytics#datascientist#machinelearning#python#pythonprogramming#pythonprojects#pythoncode#artificialintelligence#ai#dataanalyst#amankharwal#thecleverprogrammer",
         "2024-05-14 22:59:29.747899160",
         "carousel",
         "8",
         "1",
         "0.1111111111111111",
         "0",
         "5",
         "22",
         "22"
        ],
        [
         "1",
         "5394",
         "224",
         "48",
         "best data science project idea healthcare want become data science professional healthcare domain must try work project",
         "#healthcare#health#covid#data#datascience#dataanalysis#dataanalytics#datascientist#machinelearning#python#pythonprogramming#pythonprojects#pythoncode#artificialintelligence#ai#dataanalyst#amankharwal#thecleverprogrammer",
         "2024-05-24 03:49:54.957983192",
         "carousel",
         "17",
         "4",
         "0.0555555555555555",
         "0",
         "5",
         "3",
         "18"
        ]
       ],
       "shape": {
        "columns": 14,
        "rows": 2
       }
      },
      "text/html": [
       "<div>\n",
       "<style scoped>\n",
       "    .dataframe tbody tr th:only-of-type {\n",
       "        vertical-align: middle;\n",
       "    }\n",
       "\n",
       "    .dataframe tbody tr th {\n",
       "        vertical-align: top;\n",
       "    }\n",
       "\n",
       "    .dataframe thead th {\n",
       "        text-align: right;\n",
       "    }\n",
       "</style>\n",
       "<table border=\"1\" class=\"dataframe\">\n",
       "  <thead>\n",
       "    <tr style=\"text-align: right;\">\n",
       "      <th></th>\n",
       "      <th>Impressions</th>\n",
       "      <th>Likes</th>\n",
       "      <th>Profile Visits</th>\n",
       "      <th>Caption</th>\n",
       "      <th>Hashtags</th>\n",
       "      <th>Timestamp</th>\n",
       "      <th>Content Type</th>\n",
       "      <th>CaptionLength</th>\n",
       "      <th>DayOfWeek</th>\n",
       "      <th>HashtagDensity</th>\n",
       "      <th>IsWeekend</th>\n",
       "      <th>Month</th>\n",
       "      <th>HourOfDay</th>\n",
       "      <th>NumOfHashtags</th>\n",
       "    </tr>\n",
       "  </thead>\n",
       "  <tbody>\n",
       "    <tr>\n",
       "      <th>0</th>\n",
       "      <td>3920</td>\n",
       "      <td>162</td>\n",
       "      <td>35</td>\n",
       "      <td>important data visualization every financial d...</td>\n",
       "      <td>#finance#money#business#investing#investment#t...</td>\n",
       "      <td>2024-05-14 22:59:29.747899160</td>\n",
       "      <td>carousel</td>\n",
       "      <td>8</td>\n",
       "      <td>1</td>\n",
       "      <td>0.111111</td>\n",
       "      <td>0</td>\n",
       "      <td>5</td>\n",
       "      <td>22</td>\n",
       "      <td>22</td>\n",
       "    </tr>\n",
       "    <tr>\n",
       "      <th>1</th>\n",
       "      <td>5394</td>\n",
       "      <td>224</td>\n",
       "      <td>48</td>\n",
       "      <td>best data science project idea healthcare want...</td>\n",
       "      <td>#healthcare#health#covid#data#datascience#data...</td>\n",
       "      <td>2024-05-24 03:49:54.957983192</td>\n",
       "      <td>carousel</td>\n",
       "      <td>17</td>\n",
       "      <td>4</td>\n",
       "      <td>0.055556</td>\n",
       "      <td>0</td>\n",
       "      <td>5</td>\n",
       "      <td>3</td>\n",
       "      <td>18</td>\n",
       "    </tr>\n",
       "  </tbody>\n",
       "</table>\n",
       "</div>"
      ],
      "text/plain": [
       "   Impressions  Likes  Profile Visits  \\\n",
       "0         3920    162              35   \n",
       "1         5394    224              48   \n",
       "\n",
       "                                             Caption  \\\n",
       "0  important data visualization every financial d...   \n",
       "1  best data science project idea healthcare want...   \n",
       "\n",
       "                                            Hashtags  \\\n",
       "0  #finance#money#business#investing#investment#t...   \n",
       "1  #healthcare#health#covid#data#datascience#data...   \n",
       "\n",
       "                       Timestamp Content Type  CaptionLength  DayOfWeek  \\\n",
       "0  2024-05-14 22:59:29.747899160     carousel              8          1   \n",
       "1  2024-05-24 03:49:54.957983192     carousel             17          4   \n",
       "\n",
       "   HashtagDensity  IsWeekend  Month  HourOfDay  NumOfHashtags  \n",
       "0        0.111111          0      5         22             22  \n",
       "1        0.055556          0      5          3             18  "
      ]
     },
     "execution_count": 7,
     "metadata": {},
     "output_type": "execute_result"
    }
   ],
   "source": [
    "df.head(2)"
   ]
  },
  {
   "cell_type": "code",
   "execution_count": 8,
   "id": "7c9ad81b",
   "metadata": {},
   "outputs": [
    {
     "data": {
      "text/plain": [
       "(Index(['Impressions', 'Likes', 'Profile Visits', 'Caption', 'Hashtags',\n",
       "        'Timestamp', 'Content Type', 'CaptionLength', 'DayOfWeek',\n",
       "        'HashtagDensity', 'IsWeekend', 'Month', 'HourOfDay', 'NumOfHashtags'],\n",
       "       dtype='object'),\n",
       " (119, 14))"
      ]
     },
     "execution_count": 8,
     "metadata": {},
     "output_type": "execute_result"
    }
   ],
   "source": [
    "df.columns, df.shape"
   ]
  },
  {
   "cell_type": "code",
   "execution_count": 9,
   "id": "d3801778",
   "metadata": {},
   "outputs": [],
   "source": [
    "label_enc = LabelEncoder()\n",
    "df[\"Content Type\"] = label_enc.fit_transform(df[\"Content Type\"])"
   ]
  },
  {
   "cell_type": "code",
   "execution_count": 10,
   "id": "54663656",
   "metadata": {},
   "outputs": [
    {
     "data": {
      "text/plain": [
       "['../models/ct_label_enc.pkl']"
      ]
     },
     "execution_count": 10,
     "metadata": {},
     "output_type": "execute_result"
    }
   ],
   "source": [
    "joblib.dump(value=label_enc, filename=\"../models/ct_label_enc.pkl\")"
   ]
  },
  {
   "cell_type": "code",
   "execution_count": 11,
   "id": "38809a3c",
   "metadata": {},
   "outputs": [
    {
     "data": {
      "text/plain": [
       "Index(['Impressions', 'Likes', 'Profile Visits', 'Caption', 'Hashtags',\n",
       "       'Timestamp', 'Content Type', 'CaptionLength', 'DayOfWeek',\n",
       "       'HashtagDensity', 'IsWeekend', 'Month', 'HourOfDay', 'NumOfHashtags'],\n",
       "      dtype='object')"
      ]
     },
     "execution_count": 11,
     "metadata": {},
     "output_type": "execute_result"
    }
   ],
   "source": [
    "df.columns"
   ]
  },
  {
   "cell_type": "code",
   "execution_count": 12,
   "id": "b4c01028",
   "metadata": {},
   "outputs": [
    {
     "data": {
      "application/vnd.microsoft.datawrangler.viewer.v0+json": {
       "columns": [
        {
         "name": "index",
         "rawType": "int64",
         "type": "integer"
        },
        {
         "name": "Impressions",
         "rawType": "int64",
         "type": "integer"
        },
        {
         "name": "Likes",
         "rawType": "int64",
         "type": "integer"
        },
        {
         "name": "Profile Visits",
         "rawType": "int64",
         "type": "integer"
        },
        {
         "name": "Caption",
         "rawType": "object",
         "type": "string"
        },
        {
         "name": "Hashtags",
         "rawType": "object",
         "type": "string"
        },
        {
         "name": "Timestamp",
         "rawType": "object",
         "type": "string"
        },
        {
         "name": "Content Type",
         "rawType": "int32",
         "type": "integer"
        },
        {
         "name": "CaptionLength",
         "rawType": "int64",
         "type": "integer"
        },
        {
         "name": "DayOfWeek",
         "rawType": "int64",
         "type": "integer"
        },
        {
         "name": "HashtagDensity",
         "rawType": "float64",
         "type": "float"
        },
        {
         "name": "IsWeekend",
         "rawType": "int64",
         "type": "integer"
        },
        {
         "name": "Month",
         "rawType": "int64",
         "type": "integer"
        },
        {
         "name": "HourOfDay",
         "rawType": "int64",
         "type": "integer"
        },
        {
         "name": "NumOfHashtags",
         "rawType": "int64",
         "type": "integer"
        }
       ],
       "ref": "3102bb52-253d-4612-93b8-7f573f0c738f",
       "rows": [
        [
         "0",
         "3920",
         "162",
         "35",
         "important data visualization every financial data analystscientist know",
         "#finance#money#business#investing#investment#trading#stockmarket#data#datascience#dataanalysis#dataanalytics#datascientist#machinelearning#python#pythonprogramming#pythonprojects#pythoncode#artificialintelligence#ai#dataanalyst#amankharwal#thecleverprogrammer",
         "2024-05-14 22:59:29.747899160",
         "0",
         "8",
         "1",
         "0.1111111111111111",
         "0",
         "5",
         "22",
         "22"
        ],
        [
         "1",
         "5394",
         "224",
         "48",
         "best data science project idea healthcare want become data science professional healthcare domain must try work project",
         "#healthcare#health#covid#data#datascience#dataanalysis#dataanalytics#datascientist#machinelearning#python#pythonprogramming#pythonprojects#pythoncode#artificialintelligence#ai#dataanalyst#amankharwal#thecleverprogrammer",
         "2024-05-24 03:49:54.957983192",
         "0",
         "17",
         "4",
         "0.0555555555555555",
         "0",
         "5",
         "3",
         "18"
        ],
        [
         "2",
         "4021",
         "131",
         "62",
         "learn train machine learning model giving input trained model make prediction using python",
         "#data#datascience#dataanalysis#dataanalytics#datascientist#machinelearning#python#pythonprogramming#pythonprojects#pythoncode#artificialintelligence#ai#deeplearning#machinelearningprojects#datascienceprojects#amankharwal#thecleverprogrammer#machinelearningmodels",
         "2024-01-13 06:27:13.613445378",
         "1",
         "13",
         "5",
         "0.0714285714285714",
         "1",
         "1",
         "6",
         "18"
        ],
        [
         "3",
         "4528",
         "213",
         "23",
         "here write python program detect whether sentence question idea find word see beginning question beginning sentence",
         "#python#pythonprogramming#pythonprojects#pythoncode#pythonlearning#pythondeveloper#pythoncoding#pythonprogrammer#amankharwal#thecleverprogrammer#pythonprojects",
         "2024-06-17 16:44:22.184873950",
         "0",
         "16",
         "0",
         "0.0588235294117647",
         "0",
         "6",
         "16",
         "11"
        ],
        [
         "4",
         "2518",
         "123",
         "8",
         "plotting annotation visualizing data considered good practice make graph selfexplanatory example annotate graph using python",
         "#datavisualization#datascience#data#dataanalytics#machinelearning#dataanalysis#artificialintelligence#python#datascientist#bigdata#deeplearning#dataviz#ai#analytics#technology#dataanalyst#programming#pythonprogramming#statistics#coding#businessintelligence#datamining#tech#business#computerscience#tableau#database#thecleverprogrammer#amankharwal",
         "2024-03-20 17:56:58.487394958",
         "2",
         "15",
         "2",
         "0.0625",
         "0",
         "3",
         "17",
         "29"
        ]
       ],
       "shape": {
        "columns": 14,
        "rows": 5
       }
      },
      "text/html": [
       "<div>\n",
       "<style scoped>\n",
       "    .dataframe tbody tr th:only-of-type {\n",
       "        vertical-align: middle;\n",
       "    }\n",
       "\n",
       "    .dataframe tbody tr th {\n",
       "        vertical-align: top;\n",
       "    }\n",
       "\n",
       "    .dataframe thead th {\n",
       "        text-align: right;\n",
       "    }\n",
       "</style>\n",
       "<table border=\"1\" class=\"dataframe\">\n",
       "  <thead>\n",
       "    <tr style=\"text-align: right;\">\n",
       "      <th></th>\n",
       "      <th>Impressions</th>\n",
       "      <th>Likes</th>\n",
       "      <th>Profile Visits</th>\n",
       "      <th>Caption</th>\n",
       "      <th>Hashtags</th>\n",
       "      <th>Timestamp</th>\n",
       "      <th>Content Type</th>\n",
       "      <th>CaptionLength</th>\n",
       "      <th>DayOfWeek</th>\n",
       "      <th>HashtagDensity</th>\n",
       "      <th>IsWeekend</th>\n",
       "      <th>Month</th>\n",
       "      <th>HourOfDay</th>\n",
       "      <th>NumOfHashtags</th>\n",
       "    </tr>\n",
       "  </thead>\n",
       "  <tbody>\n",
       "    <tr>\n",
       "      <th>0</th>\n",
       "      <td>3920</td>\n",
       "      <td>162</td>\n",
       "      <td>35</td>\n",
       "      <td>important data visualization every financial d...</td>\n",
       "      <td>#finance#money#business#investing#investment#t...</td>\n",
       "      <td>2024-05-14 22:59:29.747899160</td>\n",
       "      <td>0</td>\n",
       "      <td>8</td>\n",
       "      <td>1</td>\n",
       "      <td>0.111111</td>\n",
       "      <td>0</td>\n",
       "      <td>5</td>\n",
       "      <td>22</td>\n",
       "      <td>22</td>\n",
       "    </tr>\n",
       "    <tr>\n",
       "      <th>1</th>\n",
       "      <td>5394</td>\n",
       "      <td>224</td>\n",
       "      <td>48</td>\n",
       "      <td>best data science project idea healthcare want...</td>\n",
       "      <td>#healthcare#health#covid#data#datascience#data...</td>\n",
       "      <td>2024-05-24 03:49:54.957983192</td>\n",
       "      <td>0</td>\n",
       "      <td>17</td>\n",
       "      <td>4</td>\n",
       "      <td>0.055556</td>\n",
       "      <td>0</td>\n",
       "      <td>5</td>\n",
       "      <td>3</td>\n",
       "      <td>18</td>\n",
       "    </tr>\n",
       "    <tr>\n",
       "      <th>2</th>\n",
       "      <td>4021</td>\n",
       "      <td>131</td>\n",
       "      <td>62</td>\n",
       "      <td>learn train machine learning model giving inpu...</td>\n",
       "      <td>#data#datascience#dataanalysis#dataanalytics#d...</td>\n",
       "      <td>2024-01-13 06:27:13.613445378</td>\n",
       "      <td>1</td>\n",
       "      <td>13</td>\n",
       "      <td>5</td>\n",
       "      <td>0.071429</td>\n",
       "      <td>1</td>\n",
       "      <td>1</td>\n",
       "      <td>6</td>\n",
       "      <td>18</td>\n",
       "    </tr>\n",
       "    <tr>\n",
       "      <th>3</th>\n",
       "      <td>4528</td>\n",
       "      <td>213</td>\n",
       "      <td>23</td>\n",
       "      <td>here write python program detect whether sente...</td>\n",
       "      <td>#python#pythonprogramming#pythonprojects#pytho...</td>\n",
       "      <td>2024-06-17 16:44:22.184873950</td>\n",
       "      <td>0</td>\n",
       "      <td>16</td>\n",
       "      <td>0</td>\n",
       "      <td>0.058824</td>\n",
       "      <td>0</td>\n",
       "      <td>6</td>\n",
       "      <td>16</td>\n",
       "      <td>11</td>\n",
       "    </tr>\n",
       "    <tr>\n",
       "      <th>4</th>\n",
       "      <td>2518</td>\n",
       "      <td>123</td>\n",
       "      <td>8</td>\n",
       "      <td>plotting annotation visualizing data considere...</td>\n",
       "      <td>#datavisualization#datascience#data#dataanalyt...</td>\n",
       "      <td>2024-03-20 17:56:58.487394958</td>\n",
       "      <td>2</td>\n",
       "      <td>15</td>\n",
       "      <td>2</td>\n",
       "      <td>0.062500</td>\n",
       "      <td>0</td>\n",
       "      <td>3</td>\n",
       "      <td>17</td>\n",
       "      <td>29</td>\n",
       "    </tr>\n",
       "  </tbody>\n",
       "</table>\n",
       "</div>"
      ],
      "text/plain": [
       "   Impressions  Likes  Profile Visits  \\\n",
       "0         3920    162              35   \n",
       "1         5394    224              48   \n",
       "2         4021    131              62   \n",
       "3         4528    213              23   \n",
       "4         2518    123               8   \n",
       "\n",
       "                                             Caption  \\\n",
       "0  important data visualization every financial d...   \n",
       "1  best data science project idea healthcare want...   \n",
       "2  learn train machine learning model giving inpu...   \n",
       "3  here write python program detect whether sente...   \n",
       "4  plotting annotation visualizing data considere...   \n",
       "\n",
       "                                            Hashtags  \\\n",
       "0  #finance#money#business#investing#investment#t...   \n",
       "1  #healthcare#health#covid#data#datascience#data...   \n",
       "2  #data#datascience#dataanalysis#dataanalytics#d...   \n",
       "3  #python#pythonprogramming#pythonprojects#pytho...   \n",
       "4  #datavisualization#datascience#data#dataanalyt...   \n",
       "\n",
       "                       Timestamp  Content Type  CaptionLength  DayOfWeek  \\\n",
       "0  2024-05-14 22:59:29.747899160             0              8          1   \n",
       "1  2024-05-24 03:49:54.957983192             0             17          4   \n",
       "2  2024-01-13 06:27:13.613445378             1             13          5   \n",
       "3  2024-06-17 16:44:22.184873950             0             16          0   \n",
       "4  2024-03-20 17:56:58.487394958             2             15          2   \n",
       "\n",
       "   HashtagDensity  IsWeekend  Month  HourOfDay  NumOfHashtags  \n",
       "0        0.111111          0      5         22             22  \n",
       "1        0.055556          0      5          3             18  \n",
       "2        0.071429          1      1          6             18  \n",
       "3        0.058824          0      6         16             11  \n",
       "4        0.062500          0      3         17             29  "
      ]
     },
     "execution_count": 12,
     "metadata": {},
     "output_type": "execute_result"
    }
   ],
   "source": [
    "df.head()"
   ]
  },
  {
   "cell_type": "code",
   "execution_count": 13,
   "id": "a9621c38",
   "metadata": {},
   "outputs": [],
   "source": [
    "num_pipeline_columns = ['Impressions', 'Likes', 'Profile Visits',\n",
    "       'CaptionLength', 'DayOfWeek',\n",
    "       'HashtagDensity', 'IsWeekend', 'Month', \n",
    "       'HourOfDay', 'NumOfHashtags']"
   ]
  },
  {
   "cell_type": "code",
   "execution_count": 14,
   "id": "d065366a",
   "metadata": {},
   "outputs": [],
   "source": [
    "def to_datetime(X):\n",
    "    return pd.to_datetime(X.squeeze(), errors='coerce').values.astype('datetime64[s]').reshape(-1, 1)\n",
    "\n",
    "timestamp_transformer = FunctionTransformer(to_datetime)\n"
   ]
  },
  {
   "cell_type": "code",
   "execution_count": 15,
   "id": "f6891b4c",
   "metadata": {},
   "outputs": [],
   "source": [
    "text_features = ['Caption', 'Hashtags']\n",
    "scale_features = ['CaptionLength', 'DayOfWeek', 'Month',\n",
    "                  'HourOfDay', 'NumOfHashtags']\n",
    "passthrough_features = ['HashtagDensity', 'IsWeekend', 'Content Type']\n",
    "timestamp_feature = ['Timestamp']"
   ]
  },
  {
   "cell_type": "code",
   "execution_count": 16,
   "id": "383bbdcd",
   "metadata": {},
   "outputs": [],
   "source": [
    "preprocessor = ColumnTransformer(\n",
    "    transformers=[\n",
    "        ('text', TfidfVectorizer(), 'Caption'),  \n",
    "        ('hashtags', TfidfVectorizer(), 'Hashtags'),  \n",
    "        ('scale', StandardScaler(), scale_features)\n",
    "    ]\n",
    ")"
   ]
  },
  {
   "cell_type": "code",
   "execution_count": 17,
   "id": "8fa0511c",
   "metadata": {},
   "outputs": [],
   "source": [
    "pipeline = Pipeline([\n",
    "    ('preprocessor', preprocessor),\n",
    "    ('model', XGBRegressor(objective='reg:squarederror', random_state=42))\n",
    "])"
   ]
  },
  {
   "cell_type": "code",
   "execution_count": 18,
   "id": "3ed10b78",
   "metadata": {},
   "outputs": [],
   "source": [
    "param_grid = {\n",
    "    'model__n_estimators': [50, 100, 200],\n",
    "    'model__max_depth': [3, 5, 7],\n",
    "    'model__learning_rate': [0.01, 0.1, 0.3],\n",
    "    'model__subsample': [0.8, 1.0]\n",
    "}"
   ]
  },
  {
   "cell_type": "code",
   "execution_count": 19,
   "id": "912ee04c",
   "metadata": {},
   "outputs": [],
   "source": [
    "grid_search = GridSearchCV(\n",
    "    pipeline,\n",
    "    param_grid,\n",
    "    cv=5,\n",
    "    scoring='neg_mean_squared_error',\n",
    "    verbose=1,\n",
    "    n_jobs=-1\n",
    ")"
   ]
  },
  {
   "cell_type": "code",
   "execution_count": 40,
   "id": "3a6c59b1",
   "metadata": {},
   "outputs": [],
   "source": [
    "from sklearn.linear_model import Ridge\n",
    "\n",
    "param_grid = {\n",
    "    \"ridge__alpha\": [0.001, 0.01, 0.1, 1, 10, 50, 100, 500, 1000]\n",
    "}\n",
    "\n",
    "ridge = Ridge(random_state=42)"
   ]
  },
  {
   "cell_type": "code",
   "execution_count": 41,
   "id": "de4c24b4",
   "metadata": {},
   "outputs": [],
   "source": [
    "pipeline2= Pipeline([\n",
    "    (\"prepro\", preprocessor),\n",
    "    (\"ridge\",ridge )\n",
    "])\n",
    "\n",
    "\n",
    "ridge_grid_search = GridSearchCV(\n",
    "    pipeline2, \n",
    "    param_grid, \n",
    "    cv=5, \n",
    "    scoring=\"r2\",\n",
    "    n_jobs=-1\n",
    ")"
   ]
  },
  {
   "cell_type": "code",
   "execution_count": 46,
   "id": "6c6ca30a",
   "metadata": {},
   "outputs": [],
   "source": [
    "from sklearn.ensemble import GradientBoostingRegressor\n",
    "pipeline3 = Pipeline([\n",
    "    (\"pre\", preprocessor),\n",
    "    (\"gbr\",GradientBoostingRegressor(random_state=42) )\n",
    "]) \n",
    " \n",
    "\n",
    "gbr_param_grid = {\n",
    "    'gbr__n_estimators': [200, 300, 400],\n",
    "    'gbr__learning_rate': [0.01, 0.05, 0.1],\n",
    "    'gbr__max_depth' : [ 3, 4, 5 ],\n",
    "    'gbr__min_samples_split' :[ 2,3,4],\n",
    "    'gbr__min_samples_leaf' :[2, 3, 4],\n",
    "    'gbr__subsample': [0.8, 1]\n",
    "}"
   ]
  },
  {
   "cell_type": "code",
   "execution_count": 47,
   "id": "504a4cb9",
   "metadata": {},
   "outputs": [],
   "source": [
    "gbr_grid_seacrh = GridSearchCV(\n",
    "    pipeline3,\n",
    "    gbr_param_grid,\n",
    "    cv = 5,\n",
    "    scoring=\"r2\",\n",
    "    n_jobs=-1,\n",
    "    verbose=2\n",
    ")"
   ]
  },
  {
   "cell_type": "code",
   "execution_count": 20,
   "id": "3095412f",
   "metadata": {},
   "outputs": [],
   "source": [
    "sys.path.append(os.path.abspath('../'))"
   ]
  },
  {
   "cell_type": "markdown",
   "id": "a9ad273b",
   "metadata": {},
   "source": [
    "# for impressions "
   ]
  },
  {
   "cell_type": "code",
   "execution_count": 21,
   "id": "0fa1b004",
   "metadata": {},
   "outputs": [],
   "source": [
    "y_imp =     df[\"Impressions\"]\n",
    "y_likes = df[\"Likes\"]\n",
    "y_profile = df[\"Profile Visits\"]"
   ]
  },
  {
   "cell_type": "code",
   "execution_count": 22,
   "id": "fe126b9c",
   "metadata": {},
   "outputs": [],
   "source": [
    "input_cols = [ 'CaptionLength', 'DayOfWeek', \n",
    "              'HashtagDensity', 'IsWeekend',\n",
    "                'Month','HourOfDay', 'Content Type',\n",
    "                'NumOfHashtags', 'Caption', 'Hashtags'\n",
    "]"
   ]
  },
  {
   "cell_type": "code",
   "execution_count": 23,
   "id": "8fa35d32",
   "metadata": {},
   "outputs": [
    {
     "data": {
      "application/vnd.microsoft.datawrangler.viewer.v0+json": {
       "columns": [
        {
         "name": "index",
         "rawType": "int64",
         "type": "integer"
        },
        {
         "name": "CaptionLength",
         "rawType": "int64",
         "type": "integer"
        },
        {
         "name": "DayOfWeek",
         "rawType": "int64",
         "type": "integer"
        },
        {
         "name": "HashtagDensity",
         "rawType": "float64",
         "type": "float"
        },
        {
         "name": "IsWeekend",
         "rawType": "int64",
         "type": "integer"
        },
        {
         "name": "Month",
         "rawType": "int64",
         "type": "integer"
        },
        {
         "name": "HourOfDay",
         "rawType": "int64",
         "type": "integer"
        },
        {
         "name": "Content Type",
         "rawType": "int32",
         "type": "integer"
        },
        {
         "name": "NumOfHashtags",
         "rawType": "int64",
         "type": "integer"
        },
        {
         "name": "Caption",
         "rawType": "object",
         "type": "string"
        },
        {
         "name": "Hashtags",
         "rawType": "object",
         "type": "string"
        }
       ],
       "ref": "36760ef8-a778-43b3-9389-eabe2969aedb",
       "rows": [
        [
         "0",
         "8",
         "1",
         "0.1111111111111111",
         "0",
         "5",
         "22",
         "0",
         "22",
         "important data visualization every financial data analystscientist know",
         "#finance#money#business#investing#investment#trading#stockmarket#data#datascience#dataanalysis#dataanalytics#datascientist#machinelearning#python#pythonprogramming#pythonprojects#pythoncode#artificialintelligence#ai#dataanalyst#amankharwal#thecleverprogrammer"
        ],
        [
         "1",
         "17",
         "4",
         "0.0555555555555555",
         "0",
         "5",
         "3",
         "0",
         "18",
         "best data science project idea healthcare want become data science professional healthcare domain must try work project",
         "#healthcare#health#covid#data#datascience#dataanalysis#dataanalytics#datascientist#machinelearning#python#pythonprogramming#pythonprojects#pythoncode#artificialintelligence#ai#dataanalyst#amankharwal#thecleverprogrammer"
        ],
        [
         "2",
         "13",
         "5",
         "0.0714285714285714",
         "1",
         "1",
         "6",
         "1",
         "18",
         "learn train machine learning model giving input trained model make prediction using python",
         "#data#datascience#dataanalysis#dataanalytics#datascientist#machinelearning#python#pythonprogramming#pythonprojects#pythoncode#artificialintelligence#ai#deeplearning#machinelearningprojects#datascienceprojects#amankharwal#thecleverprogrammer#machinelearningmodels"
        ],
        [
         "3",
         "16",
         "0",
         "0.0588235294117647",
         "0",
         "6",
         "16",
         "0",
         "11",
         "here write python program detect whether sentence question idea find word see beginning question beginning sentence",
         "#python#pythonprogramming#pythonprojects#pythoncode#pythonlearning#pythondeveloper#pythoncoding#pythonprogrammer#amankharwal#thecleverprogrammer#pythonprojects"
        ],
        [
         "4",
         "15",
         "2",
         "0.0625",
         "0",
         "3",
         "17",
         "2",
         "29",
         "plotting annotation visualizing data considered good practice make graph selfexplanatory example annotate graph using python",
         "#datavisualization#datascience#data#dataanalytics#machinelearning#dataanalysis#artificialintelligence#python#datascientist#bigdata#deeplearning#dataviz#ai#analytics#technology#dataanalyst#programming#pythonprogramming#statistics#coding#businessintelligence#datamining#tech#business#computerscience#tableau#database#thecleverprogrammer#amankharwal"
        ]
       ],
       "shape": {
        "columns": 10,
        "rows": 5
       }
      },
      "text/html": [
       "<div>\n",
       "<style scoped>\n",
       "    .dataframe tbody tr th:only-of-type {\n",
       "        vertical-align: middle;\n",
       "    }\n",
       "\n",
       "    .dataframe tbody tr th {\n",
       "        vertical-align: top;\n",
       "    }\n",
       "\n",
       "    .dataframe thead th {\n",
       "        text-align: right;\n",
       "    }\n",
       "</style>\n",
       "<table border=\"1\" class=\"dataframe\">\n",
       "  <thead>\n",
       "    <tr style=\"text-align: right;\">\n",
       "      <th></th>\n",
       "      <th>CaptionLength</th>\n",
       "      <th>DayOfWeek</th>\n",
       "      <th>HashtagDensity</th>\n",
       "      <th>IsWeekend</th>\n",
       "      <th>Month</th>\n",
       "      <th>HourOfDay</th>\n",
       "      <th>Content Type</th>\n",
       "      <th>NumOfHashtags</th>\n",
       "      <th>Caption</th>\n",
       "      <th>Hashtags</th>\n",
       "    </tr>\n",
       "  </thead>\n",
       "  <tbody>\n",
       "    <tr>\n",
       "      <th>0</th>\n",
       "      <td>8</td>\n",
       "      <td>1</td>\n",
       "      <td>0.111111</td>\n",
       "      <td>0</td>\n",
       "      <td>5</td>\n",
       "      <td>22</td>\n",
       "      <td>0</td>\n",
       "      <td>22</td>\n",
       "      <td>important data visualization every financial d...</td>\n",
       "      <td>#finance#money#business#investing#investment#t...</td>\n",
       "    </tr>\n",
       "    <tr>\n",
       "      <th>1</th>\n",
       "      <td>17</td>\n",
       "      <td>4</td>\n",
       "      <td>0.055556</td>\n",
       "      <td>0</td>\n",
       "      <td>5</td>\n",
       "      <td>3</td>\n",
       "      <td>0</td>\n",
       "      <td>18</td>\n",
       "      <td>best data science project idea healthcare want...</td>\n",
       "      <td>#healthcare#health#covid#data#datascience#data...</td>\n",
       "    </tr>\n",
       "    <tr>\n",
       "      <th>2</th>\n",
       "      <td>13</td>\n",
       "      <td>5</td>\n",
       "      <td>0.071429</td>\n",
       "      <td>1</td>\n",
       "      <td>1</td>\n",
       "      <td>6</td>\n",
       "      <td>1</td>\n",
       "      <td>18</td>\n",
       "      <td>learn train machine learning model giving inpu...</td>\n",
       "      <td>#data#datascience#dataanalysis#dataanalytics#d...</td>\n",
       "    </tr>\n",
       "    <tr>\n",
       "      <th>3</th>\n",
       "      <td>16</td>\n",
       "      <td>0</td>\n",
       "      <td>0.058824</td>\n",
       "      <td>0</td>\n",
       "      <td>6</td>\n",
       "      <td>16</td>\n",
       "      <td>0</td>\n",
       "      <td>11</td>\n",
       "      <td>here write python program detect whether sente...</td>\n",
       "      <td>#python#pythonprogramming#pythonprojects#pytho...</td>\n",
       "    </tr>\n",
       "    <tr>\n",
       "      <th>4</th>\n",
       "      <td>15</td>\n",
       "      <td>2</td>\n",
       "      <td>0.062500</td>\n",
       "      <td>0</td>\n",
       "      <td>3</td>\n",
       "      <td>17</td>\n",
       "      <td>2</td>\n",
       "      <td>29</td>\n",
       "      <td>plotting annotation visualizing data considere...</td>\n",
       "      <td>#datavisualization#datascience#data#dataanalyt...</td>\n",
       "    </tr>\n",
       "  </tbody>\n",
       "</table>\n",
       "</div>"
      ],
      "text/plain": [
       "   CaptionLength  DayOfWeek  HashtagDensity  IsWeekend  Month  HourOfDay  \\\n",
       "0              8          1        0.111111          0      5         22   \n",
       "1             17          4        0.055556          0      5          3   \n",
       "2             13          5        0.071429          1      1          6   \n",
       "3             16          0        0.058824          0      6         16   \n",
       "4             15          2        0.062500          0      3         17   \n",
       "\n",
       "   Content Type  NumOfHashtags  \\\n",
       "0             0             22   \n",
       "1             0             18   \n",
       "2             1             18   \n",
       "3             0             11   \n",
       "4             2             29   \n",
       "\n",
       "                                             Caption  \\\n",
       "0  important data visualization every financial d...   \n",
       "1  best data science project idea healthcare want...   \n",
       "2  learn train machine learning model giving inpu...   \n",
       "3  here write python program detect whether sente...   \n",
       "4  plotting annotation visualizing data considere...   \n",
       "\n",
       "                                            Hashtags  \n",
       "0  #finance#money#business#investing#investment#t...  \n",
       "1  #healthcare#health#covid#data#datascience#data...  \n",
       "2  #data#datascience#dataanalysis#dataanalytics#d...  \n",
       "3  #python#pythonprogramming#pythonprojects#pytho...  \n",
       "4  #datavisualization#datascience#data#dataanalyt...  "
      ]
     },
     "execution_count": 23,
     "metadata": {},
     "output_type": "execute_result"
    }
   ],
   "source": [
    "X = df[input_cols]\n",
    "X.head()"
   ]
  },
  {
   "cell_type": "code",
   "execution_count": 24,
   "id": "f4ef6d8e",
   "metadata": {},
   "outputs": [
    {
     "name": "stdout",
     "output_type": "stream",
     "text": [
      "Fitting 5 folds for each of 54 candidates, totalling 270 fits\n"
     ]
    }
   ],
   "source": [
    "imp_model = grid_search.fit(X, y_imp)\n",
    "best_imp_model = imp_model.best_params_"
   ]
  },
  {
   "cell_type": "code",
   "execution_count": 25,
   "id": "446da84b",
   "metadata": {},
   "outputs": [
    {
     "name": "stdout",
     "output_type": "stream",
     "text": [
      "{'model__learning_rate': 0.01, 'model__max_depth': 7, 'model__n_estimators': 100, 'model__subsample': 0.8}\n"
     ]
    }
   ],
   "source": [
    "best_imp = imp_model.best_estimator_\n",
    "print(best_imp_model)"
   ]
  },
  {
   "cell_type": "code",
   "execution_count": 26,
   "id": "45d5328e",
   "metadata": {},
   "outputs": [
    {
     "name": "stdout",
     "output_type": "stream",
     "text": [
      "[4711.8237] 4528\n"
     ]
    }
   ],
   "source": [
    "imp_pred = imp_model.predict(X.iloc[[3]])\n",
    "print(imp_pred, y_imp.iloc[3])\n",
    "\n"
   ]
  },
  {
   "cell_type": "code",
   "execution_count": 27,
   "id": "37099ccc",
   "metadata": {},
   "outputs": [
    {
     "name": "stdout",
     "output_type": "stream",
     "text": [
      "Fitting 5 folds for each of 54 candidates, totalling 270 fits\n"
     ]
    },
    {
     "data": {
      "text/plain": [
       "{'model__learning_rate': 0.01,\n",
       " 'model__max_depth': 7,\n",
       " 'model__n_estimators': 200,\n",
       " 'model__subsample': 0.8}"
      ]
     },
     "execution_count": 27,
     "metadata": {},
     "output_type": "execute_result"
    }
   ],
   "source": [
    "like_model = grid_search.fit(X, y_likes)\n",
    "like_model.best_params_"
   ]
  },
  {
   "cell_type": "code",
   "execution_count": 28,
   "id": "a88a93ac",
   "metadata": {},
   "outputs": [
    {
     "name": "stdout",
     "output_type": "stream",
     "text": [
      "[197.7836] 213\n"
     ]
    }
   ],
   "source": [
    "like_pred = like_model.predict(X.iloc[[3]])\n",
    "print(like_pred, y_likes.iloc[3])"
   ]
  },
  {
   "cell_type": "code",
   "execution_count": 29,
   "id": "3a9635d5",
   "metadata": {},
   "outputs": [
    {
     "name": "stdout",
     "output_type": "stream",
     "text": [
      "Fitting 5 folds for each of 54 candidates, totalling 270 fits\n"
     ]
    },
    {
     "data": {
      "text/plain": [
       "{'model__learning_rate': 0.01,\n",
       " 'model__max_depth': 5,\n",
       " 'model__n_estimators': 200,\n",
       " 'model__subsample': 0.8}"
      ]
     },
     "execution_count": 29,
     "metadata": {},
     "output_type": "execute_result"
    }
   ],
   "source": [
    "profile_model = grid_search.fit(X, y_profile)\n",
    "profile_model.best_params_"
   ]
  },
  {
   "cell_type": "code",
   "execution_count": 30,
   "id": "f093ff8f",
   "metadata": {},
   "outputs": [
    {
     "name": "stdout",
     "output_type": "stream",
     "text": [
      "[28.22146] 23\n"
     ]
    }
   ],
   "source": [
    "profile_pred = profile_model.predict(X.iloc[[3]])\n",
    "print(profile_pred, y_profile.iloc[3])"
   ]
  },
  {
   "cell_type": "code",
   "execution_count": 42,
   "id": "8ff9cc06",
   "metadata": {},
   "outputs": [
    {
     "data": {
      "text/plain": [
       "{'ridge__alpha': 10}"
      ]
     },
     "execution_count": 42,
     "metadata": {},
     "output_type": "execute_result"
    }
   ],
   "source": [
    "imp_rigde = ridge_grid_search.fit(X, y_imp)\n",
    "imp_rigde.best_params_"
   ]
  },
  {
   "cell_type": "code",
   "execution_count": 48,
   "id": "a7e7e345",
   "metadata": {},
   "outputs": [
    {
     "name": "stdout",
     "output_type": "stream",
     "text": [
      "Fitting 5 folds for each of 486 candidates, totalling 2430 fits\n"
     ]
    },
    {
     "data": {
      "text/plain": [
       "{'gbr__learning_rate': 0.01,\n",
       " 'gbr__max_depth': 5,\n",
       " 'gbr__min_samples_leaf': 4,\n",
       " 'gbr__min_samples_split': 2,\n",
       " 'gbr__n_estimators': 200,\n",
       " 'gbr__subsample': 0.8}"
      ]
     },
     "execution_count": 48,
     "metadata": {},
     "output_type": "execute_result"
    }
   ],
   "source": [
    "gbr_imp = gbr_grid_seacrh.fit(X, y_imp)\n",
    "gbr_imp.best_params_\n"
   ]
  },
  {
   "cell_type": "code",
   "execution_count": null,
   "id": "6303fbae",
   "metadata": {},
   "outputs": [],
   "source": []
  },
  {
   "cell_type": "code",
   "execution_count": 31,
   "id": "d15599b0",
   "metadata": {},
   "outputs": [
    {
     "data": {
      "text/plain": [
       "['../models/ml_models/best_imp_model.pkl']"
      ]
     },
     "execution_count": 31,
     "metadata": {},
     "output_type": "execute_result"
    }
   ],
   "source": [
    "sys.path.append(os.path.abspath('../'))\n",
    "joblib.dump(value=best_imp, filename=\"../models/ml_models/best_imp_model.pkl\")"
   ]
  },
  {
   "cell_type": "code",
   "execution_count": 32,
   "id": "806a4c7c",
   "metadata": {},
   "outputs": [
    {
     "data": {
      "text/plain": [
       "['../models/ml_models/profile_model.pkl']"
      ]
     },
     "execution_count": 32,
     "metadata": {},
     "output_type": "execute_result"
    }
   ],
   "source": [
    "joblib.dump(value=like_model, filename=\"../models/ml_models/like_model.pkl\")\n",
    "\n",
    "joblib.dump(value=profile_model, filename=\"../models/ml_models/profile_model.pkl\")"
   ]
  },
  {
   "cell_type": "code",
   "execution_count": null,
   "id": "07d5fed3",
   "metadata": {},
   "outputs": [],
   "source": []
  }
 ],
 "metadata": {
  "kernelspec": {
   "display_name": "base",
   "language": "python",
   "name": "python3"
  },
  "language_info": {
   "codemirror_mode": {
    "name": "ipython",
    "version": 3
   },
   "file_extension": ".py",
   "mimetype": "text/x-python",
   "name": "python",
   "nbconvert_exporter": "python",
   "pygments_lexer": "ipython3",
   "version": "3.12.7"
  }
 },
 "nbformat": 4,
 "nbformat_minor": 5
}
