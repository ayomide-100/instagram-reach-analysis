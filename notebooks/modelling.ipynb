{
 "cells": [
  {
   "cell_type": "code",
   "execution_count": 1,
   "id": "c3b322b2",
   "metadata": {},
   "outputs": [],
   "source": [
    "import os\n",
    "import sys\n",
    "import numpy as np\n",
    "import pandas as pd\n",
    "from wordcloud import WordCloud, STOPWORDS\n",
    "from sklearn.preprocessing import StandardScaler\n",
    "from sklearn.model_selection import train_test_split\n",
    "from sklearn.linear_model import PassiveAggressiveRegressor\n",
    "from sklearn.ensemble import RandomForestRegressor\n",
    "from sklearn.preprocessing import StandardScaler, MinMaxScaler\n",
    "from sklearn.model_selection import cross_val_score\n",
    "from sklearn.metrics import mean_squared_error\n"
   ]
  },
  {
   "cell_type": "code",
   "execution_count": 2,
   "id": "7f678432",
   "metadata": {},
   "outputs": [
    {
     "data": {
      "application/vnd.microsoft.datawrangler.viewer.v0+json": {
       "columns": [
        {
         "name": "index",
         "rawType": "int64",
         "type": "integer"
        },
        {
         "name": "Impressions",
         "rawType": "int64",
         "type": "integer"
        },
        {
         "name": "From Home",
         "rawType": "int64",
         "type": "integer"
        },
        {
         "name": "From Hashtags",
         "rawType": "int64",
         "type": "integer"
        },
        {
         "name": "From Explore",
         "rawType": "int64",
         "type": "integer"
        },
        {
         "name": "From Other",
         "rawType": "int64",
         "type": "integer"
        },
        {
         "name": "Saves",
         "rawType": "int64",
         "type": "integer"
        },
        {
         "name": "Comments",
         "rawType": "int64",
         "type": "integer"
        },
        {
         "name": "Shares",
         "rawType": "int64",
         "type": "integer"
        },
        {
         "name": "Likes",
         "rawType": "int64",
         "type": "integer"
        },
        {
         "name": "Profile Visits",
         "rawType": "int64",
         "type": "integer"
        },
        {
         "name": "Follows",
         "rawType": "int64",
         "type": "integer"
        },
        {
         "name": "Caption",
         "rawType": "object",
         "type": "string"
        },
        {
         "name": "Hashtags",
         "rawType": "object",
         "type": "string"
        }
       ],
       "ref": "f49ad13d-471d-45df-9e11-16a291e37400",
       "rows": [
        [
         "0",
         "3920",
         "2586",
         "1028",
         "619",
         "56",
         "98",
         "9",
         "5",
         "162",
         "35",
         "2",
         "Here are some of the most important data visualizations that every Financial Data Analyst/Scientist should know.",
         "#finance #money #business #investing #investment #trading #stockmarket #data #datascience #dataanalysis #dataanalytics #datascientist #machinelearning #python #pythonprogramming #pythonprojects #pythoncode #artificialintelligence #ai #dataanalyst #amankharwal #thecleverprogrammer"
        ],
        [
         "1",
         "5394",
         "2727",
         "1838",
         "1174",
         "78",
         "194",
         "7",
         "14",
         "224",
         "48",
         "10",
         "Here are some of the best data science project ideas on healthcare. If you want to become a data science professional in the healthcare domain then you must try to work on these projects.",
         "#healthcare #health #covid #data #datascience #dataanalysis #dataanalytics #datascientist #machinelearning #python #pythonprogramming #pythonprojects #pythoncode #artificialintelligence #ai #dataanalyst #amankharwal #thecleverprogrammer"
        ],
        [
         "2",
         "4021",
         "2085",
         "1188",
         "0",
         "533",
         "41",
         "11",
         "1",
         "131",
         "62",
         "12",
         "Learn how to train a machine learning model and giving inputs to your trained model to make predictions using Python.",
         "#data #datascience #dataanalysis #dataanalytics #datascientist #machinelearning #python #pythonprogramming #pythonprojects #pythoncode #artificialintelligence #ai #deeplearning #machinelearningprojects #datascienceprojects #amankharwal #thecleverprogrammer #machinelearningmodels"
        ],
        [
         "3",
         "4528",
         "2700",
         "621",
         "932",
         "73",
         "172",
         "10",
         "7",
         "213",
         "23",
         "8",
         "Heres how you can write a Python program to detect whether a sentence is a question or not. The idea here is to find the words that we see in the beginning of a question in the beginning of a sentence.",
         "#python #pythonprogramming #pythonprojects #pythoncode #pythonlearning #pythondeveloper #pythoncoding #pythonprogrammer #amankharwal #thecleverprogrammer #pythonprojects"
        ],
        [
         "4",
         "2518",
         "1704",
         "255",
         "279",
         "37",
         "96",
         "5",
         "4",
         "123",
         "8",
         "0",
         "Plotting annotations while visualizing your data is considered good practice to make the graphs self-explanatory. Here is an example of how you can annotate a graph using Python.",
         "#datavisualization #datascience #data #dataanalytics #machinelearning #dataanalysis #artificialintelligence #python #datascientist #bigdata #deeplearning #dataviz #ai #analytics #technology #dataanalyst #programming #pythonprogramming #statistics #coding #businessintelligence #datamining #tech #business #computerscience #tableau #database #thecleverprogrammer #amankharwal"
        ]
       ],
       "shape": {
        "columns": 13,
        "rows": 5
       }
      },
      "text/html": [
       "<div>\n",
       "<style scoped>\n",
       "    .dataframe tbody tr th:only-of-type {\n",
       "        vertical-align: middle;\n",
       "    }\n",
       "\n",
       "    .dataframe tbody tr th {\n",
       "        vertical-align: top;\n",
       "    }\n",
       "\n",
       "    .dataframe thead th {\n",
       "        text-align: right;\n",
       "    }\n",
       "</style>\n",
       "<table border=\"1\" class=\"dataframe\">\n",
       "  <thead>\n",
       "    <tr style=\"text-align: right;\">\n",
       "      <th></th>\n",
       "      <th>Impressions</th>\n",
       "      <th>From Home</th>\n",
       "      <th>From Hashtags</th>\n",
       "      <th>From Explore</th>\n",
       "      <th>From Other</th>\n",
       "      <th>Saves</th>\n",
       "      <th>Comments</th>\n",
       "      <th>Shares</th>\n",
       "      <th>Likes</th>\n",
       "      <th>Profile Visits</th>\n",
       "      <th>Follows</th>\n",
       "      <th>Caption</th>\n",
       "      <th>Hashtags</th>\n",
       "    </tr>\n",
       "  </thead>\n",
       "  <tbody>\n",
       "    <tr>\n",
       "      <th>0</th>\n",
       "      <td>3920</td>\n",
       "      <td>2586</td>\n",
       "      <td>1028</td>\n",
       "      <td>619</td>\n",
       "      <td>56</td>\n",
       "      <td>98</td>\n",
       "      <td>9</td>\n",
       "      <td>5</td>\n",
       "      <td>162</td>\n",
       "      <td>35</td>\n",
       "      <td>2</td>\n",
       "      <td>Here are some of the most important data visua...</td>\n",
       "      <td>#finance #money #business #investing #investme...</td>\n",
       "    </tr>\n",
       "    <tr>\n",
       "      <th>1</th>\n",
       "      <td>5394</td>\n",
       "      <td>2727</td>\n",
       "      <td>1838</td>\n",
       "      <td>1174</td>\n",
       "      <td>78</td>\n",
       "      <td>194</td>\n",
       "      <td>7</td>\n",
       "      <td>14</td>\n",
       "      <td>224</td>\n",
       "      <td>48</td>\n",
       "      <td>10</td>\n",
       "      <td>Here are some of the best data science project...</td>\n",
       "      <td>#healthcare #health #covid #data #datascience ...</td>\n",
       "    </tr>\n",
       "    <tr>\n",
       "      <th>2</th>\n",
       "      <td>4021</td>\n",
       "      <td>2085</td>\n",
       "      <td>1188</td>\n",
       "      <td>0</td>\n",
       "      <td>533</td>\n",
       "      <td>41</td>\n",
       "      <td>11</td>\n",
       "      <td>1</td>\n",
       "      <td>131</td>\n",
       "      <td>62</td>\n",
       "      <td>12</td>\n",
       "      <td>Learn how to train a machine learning model an...</td>\n",
       "      <td>#data #datascience #dataanalysis #dataanalytic...</td>\n",
       "    </tr>\n",
       "    <tr>\n",
       "      <th>3</th>\n",
       "      <td>4528</td>\n",
       "      <td>2700</td>\n",
       "      <td>621</td>\n",
       "      <td>932</td>\n",
       "      <td>73</td>\n",
       "      <td>172</td>\n",
       "      <td>10</td>\n",
       "      <td>7</td>\n",
       "      <td>213</td>\n",
       "      <td>23</td>\n",
       "      <td>8</td>\n",
       "      <td>Heres how you can write a Python program to d...</td>\n",
       "      <td>#python #pythonprogramming #pythonprojects #py...</td>\n",
       "    </tr>\n",
       "    <tr>\n",
       "      <th>4</th>\n",
       "      <td>2518</td>\n",
       "      <td>1704</td>\n",
       "      <td>255</td>\n",
       "      <td>279</td>\n",
       "      <td>37</td>\n",
       "      <td>96</td>\n",
       "      <td>5</td>\n",
       "      <td>4</td>\n",
       "      <td>123</td>\n",
       "      <td>8</td>\n",
       "      <td>0</td>\n",
       "      <td>Plotting annotations while visualizing your da...</td>\n",
       "      <td>#datavisualization #datascience #data #dataana...</td>\n",
       "    </tr>\n",
       "  </tbody>\n",
       "</table>\n",
       "</div>"
      ],
      "text/plain": [
       "   Impressions  From Home  From Hashtags  From Explore  From Other  Saves  \\\n",
       "0         3920       2586           1028           619          56     98   \n",
       "1         5394       2727           1838          1174          78    194   \n",
       "2         4021       2085           1188             0         533     41   \n",
       "3         4528       2700            621           932          73    172   \n",
       "4         2518       1704            255           279          37     96   \n",
       "\n",
       "   Comments  Shares  Likes  Profile Visits  Follows  \\\n",
       "0         9       5    162              35        2   \n",
       "1         7      14    224              48       10   \n",
       "2        11       1    131              62       12   \n",
       "3        10       7    213              23        8   \n",
       "4         5       4    123               8        0   \n",
       "\n",
       "                                             Caption  \\\n",
       "0  Here are some of the most important data visua...   \n",
       "1  Here are some of the best data science project...   \n",
       "2  Learn how to train a machine learning model an...   \n",
       "3  Heres how you can write a Python program to d...   \n",
       "4  Plotting annotations while visualizing your da...   \n",
       "\n",
       "                                            Hashtags  \n",
       "0  #finance #money #business #investing #investme...  \n",
       "1  #healthcare #health #covid #data #datascience ...  \n",
       "2  #data #datascience #dataanalysis #dataanalytic...  \n",
       "3  #python #pythonprogramming #pythonprojects #py...  \n",
       "4  #datavisualization #datascience #data #dataana...  "
      ]
     },
     "execution_count": 2,
     "metadata": {},
     "output_type": "execute_result"
    }
   ],
   "source": [
    "sys.path.append(os.path.abspath('../data'))\n",
    "df = pd.read_csv(\"../data/InstagramData.csv\", encoding = 'latin1')\n",
    "(df.head())"
   ]
  },
  {
   "cell_type": "code",
   "execution_count": 3,
   "id": "38641389",
   "metadata": {},
   "outputs": [
    {
     "data": {
      "text/plain": [
       "(119, 13)"
      ]
     },
     "execution_count": 3,
     "metadata": {},
     "output_type": "execute_result"
    }
   ],
   "source": [
    "df.shape"
   ]
  },
  {
   "cell_type": "code",
   "execution_count": 4,
   "id": "e3eeac00",
   "metadata": {},
   "outputs": [
    {
     "data": {
      "application/vnd.microsoft.datawrangler.viewer.v0+json": {
       "columns": [
        {
         "name": "index",
         "rawType": "int64",
         "type": "integer"
        },
        {
         "name": "Impressions",
         "rawType": "int64",
         "type": "integer"
        }
       ],
       "ref": "9e9d0e1c-c1f3-4546-b1e5-0133ea3381d6",
       "rows": [
        [
         "0",
         "3920"
        ],
        [
         "1",
         "5394"
        ],
        [
         "2",
         "4021"
        ],
        [
         "3",
         "4528"
        ],
        [
         "4",
         "2518"
        ],
        [
         "5",
         "3884"
        ],
        [
         "6",
         "2621"
        ],
        [
         "7",
         "3541"
        ],
        [
         "8",
         "3749"
        ],
        [
         "9",
         "4115"
        ],
        [
         "10",
         "2218"
        ],
        [
         "11",
         "3234"
        ],
        [
         "12",
         "4344"
        ],
        [
         "13",
         "3216"
        ],
        [
         "14",
         "9453"
        ],
        [
         "15",
         "5055"
        ],
        [
         "16",
         "4002"
        ],
        [
         "17",
         "3169"
        ],
        [
         "18",
         "6168"
        ],
        [
         "19",
         "2407"
        ],
        [
         "20",
         "2064"
        ],
        [
         "21",
         "3973"
        ],
        [
         "22",
         "7281"
        ],
        [
         "23",
         "3052"
        ],
        [
         "24",
         "4628"
        ],
        [
         "25",
         "4082"
        ],
        [
         "26",
         "5394"
        ],
        [
         "27",
         "2766"
        ],
        [
         "28",
         "3924"
        ],
        [
         "29",
         "3015"
        ],
        [
         "30",
         "6666"
        ],
        [
         "31",
         "3854"
        ],
        [
         "32",
         "4355"
        ],
        [
         "33",
         "4343"
        ],
        [
         "34",
         "6108"
        ],
        [
         "35",
         "2523"
        ],
        [
         "36",
         "2327"
        ],
        [
         "37",
         "3990"
        ],
        [
         "38",
         "2191"
        ],
        [
         "39",
         "1941"
        ],
        [
         "40",
         "16062"
        ],
        [
         "41",
         "4998"
        ],
        [
         "42",
         "4289"
        ],
        [
         "43",
         "3880"
        ],
        [
         "44",
         "3786"
        ],
        [
         "45",
         "4298"
        ],
        [
         "46",
         "3630"
        ],
        [
         "47",
         "2826"
        ],
        [
         "48",
         "7407"
        ],
        [
         "49",
         "10386"
        ]
       ],
       "shape": {
        "columns": 1,
        "rows": 119
       }
      },
      "text/plain": [
       "0       3920\n",
       "1       5394\n",
       "2       4021\n",
       "3       4528\n",
       "4       2518\n",
       "       ...  \n",
       "114    13700\n",
       "115     5731\n",
       "116     4139\n",
       "117    32695\n",
       "118    36919\n",
       "Name: Impressions, Length: 119, dtype: int64"
      ]
     },
     "execution_count": 4,
     "metadata": {},
     "output_type": "execute_result"
    }
   ],
   "source": [
    "y = df[\"Impressions\"]\n",
    "y"
   ]
  },
  {
   "cell_type": "markdown",
   "id": "920f32ac",
   "metadata": {},
   "source": [
    "To create new columns that gives us the number of hashtages and the caption length\n",
    "\n",
    "\n",
    "nb: Would have used vectorization but smalll dataset"
   ]
  },
  {
   "cell_type": "code",
   "execution_count": 5,
   "id": "456ef9ca",
   "metadata": {},
   "outputs": [],
   "source": [
    "def count_hashtags(hashtags):\n",
    "    return len(str(hashtags).split())\n",
    "\n",
    "def get_caption_length(caption):\n",
    "    return len(str(caption))\n",
    "\n",
    "df['num_hashtags'] = df['Hashtags'].apply(count_hashtags)\n",
    "df['caption_length'] = df['Caption'].apply(get_caption_length)\n"
   ]
  },
  {
   "cell_type": "markdown",
   "id": "b9dff894",
   "metadata": {},
   "source": [
    "Drop the target variable and the Original Caption and Hashtags columns"
   ]
  },
  {
   "cell_type": "code",
   "execution_count": 23,
   "id": "6758af93",
   "metadata": {},
   "outputs": [
    {
     "data": {
      "application/vnd.microsoft.datawrangler.viewer.v0+json": {
       "columns": [
        {
         "name": "index",
         "rawType": "int64",
         "type": "integer"
        },
        {
         "name": "From Home",
         "rawType": "int64",
         "type": "integer"
        },
        {
         "name": "From Hashtags",
         "rawType": "int64",
         "type": "integer"
        },
        {
         "name": "From Explore",
         "rawType": "int64",
         "type": "integer"
        },
        {
         "name": "Saves",
         "rawType": "int64",
         "type": "integer"
        },
        {
         "name": "Shares",
         "rawType": "int64",
         "type": "integer"
        },
        {
         "name": "Likes",
         "rawType": "int64",
         "type": "integer"
        },
        {
         "name": "Profile Visits",
         "rawType": "int64",
         "type": "integer"
        },
        {
         "name": "Follows",
         "rawType": "int64",
         "type": "integer"
        },
        {
         "name": "num_hashtags",
         "rawType": "int64",
         "type": "integer"
        }
       ],
       "ref": "73174787-ef42-485a-a709-96056a5b5620",
       "rows": [
        [
         "0",
         "2586",
         "1028",
         "619",
         "98",
         "5",
         "162",
         "35",
         "2",
         "22"
        ],
        [
         "1",
         "2727",
         "1838",
         "1174",
         "194",
         "14",
         "224",
         "48",
         "10",
         "18"
        ],
        [
         "2",
         "2085",
         "1188",
         "0",
         "41",
         "1",
         "131",
         "62",
         "12",
         "18"
        ],
        [
         "3",
         "2700",
         "621",
         "932",
         "172",
         "7",
         "213",
         "23",
         "8",
         "11"
        ],
        [
         "4",
         "1704",
         "255",
         "279",
         "96",
         "4",
         "123",
         "8",
         "0",
         "29"
        ]
       ],
       "shape": {
        "columns": 9,
        "rows": 5
       }
      },
      "text/html": [
       "<div>\n",
       "<style scoped>\n",
       "    .dataframe tbody tr th:only-of-type {\n",
       "        vertical-align: middle;\n",
       "    }\n",
       "\n",
       "    .dataframe tbody tr th {\n",
       "        vertical-align: top;\n",
       "    }\n",
       "\n",
       "    .dataframe thead th {\n",
       "        text-align: right;\n",
       "    }\n",
       "</style>\n",
       "<table border=\"1\" class=\"dataframe\">\n",
       "  <thead>\n",
       "    <tr style=\"text-align: right;\">\n",
       "      <th></th>\n",
       "      <th>From Home</th>\n",
       "      <th>From Hashtags</th>\n",
       "      <th>From Explore</th>\n",
       "      <th>Saves</th>\n",
       "      <th>Shares</th>\n",
       "      <th>Likes</th>\n",
       "      <th>Profile Visits</th>\n",
       "      <th>Follows</th>\n",
       "      <th>num_hashtags</th>\n",
       "    </tr>\n",
       "  </thead>\n",
       "  <tbody>\n",
       "    <tr>\n",
       "      <th>0</th>\n",
       "      <td>2586</td>\n",
       "      <td>1028</td>\n",
       "      <td>619</td>\n",
       "      <td>98</td>\n",
       "      <td>5</td>\n",
       "      <td>162</td>\n",
       "      <td>35</td>\n",
       "      <td>2</td>\n",
       "      <td>22</td>\n",
       "    </tr>\n",
       "    <tr>\n",
       "      <th>1</th>\n",
       "      <td>2727</td>\n",
       "      <td>1838</td>\n",
       "      <td>1174</td>\n",
       "      <td>194</td>\n",
       "      <td>14</td>\n",
       "      <td>224</td>\n",
       "      <td>48</td>\n",
       "      <td>10</td>\n",
       "      <td>18</td>\n",
       "    </tr>\n",
       "    <tr>\n",
       "      <th>2</th>\n",
       "      <td>2085</td>\n",
       "      <td>1188</td>\n",
       "      <td>0</td>\n",
       "      <td>41</td>\n",
       "      <td>1</td>\n",
       "      <td>131</td>\n",
       "      <td>62</td>\n",
       "      <td>12</td>\n",
       "      <td>18</td>\n",
       "    </tr>\n",
       "    <tr>\n",
       "      <th>3</th>\n",
       "      <td>2700</td>\n",
       "      <td>621</td>\n",
       "      <td>932</td>\n",
       "      <td>172</td>\n",
       "      <td>7</td>\n",
       "      <td>213</td>\n",
       "      <td>23</td>\n",
       "      <td>8</td>\n",
       "      <td>11</td>\n",
       "    </tr>\n",
       "    <tr>\n",
       "      <th>4</th>\n",
       "      <td>1704</td>\n",
       "      <td>255</td>\n",
       "      <td>279</td>\n",
       "      <td>96</td>\n",
       "      <td>4</td>\n",
       "      <td>123</td>\n",
       "      <td>8</td>\n",
       "      <td>0</td>\n",
       "      <td>29</td>\n",
       "    </tr>\n",
       "  </tbody>\n",
       "</table>\n",
       "</div>"
      ],
      "text/plain": [
       "   From Home  From Hashtags  From Explore  Saves  Shares  Likes  \\\n",
       "0       2586           1028           619     98       5    162   \n",
       "1       2727           1838          1174    194      14    224   \n",
       "2       2085           1188             0     41       1    131   \n",
       "3       2700            621           932    172       7    213   \n",
       "4       1704            255           279     96       4    123   \n",
       "\n",
       "   Profile Visits  Follows  num_hashtags  \n",
       "0              35        2            22  \n",
       "1              48       10            18  \n",
       "2              62       12            18  \n",
       "3              23        8            11  \n",
       "4               8        0            29  "
      ]
     },
     "execution_count": 23,
     "metadata": {},
     "output_type": "execute_result"
    }
   ],
   "source": [
    "to_be_dropped = [ \"From Other\", \"Caption\", \"Hashtags\", \n",
    "                   \"Impressions\", \"Comments\", \"caption_length\"]\n",
    "x = df.drop(to_be_dropped, axis= 1)\n",
    "x.head()"
   ]
  },
  {
   "cell_type": "code",
   "execution_count": 24,
   "id": "d17acf30",
   "metadata": {},
   "outputs": [
    {
     "data": {
      "application/vnd.microsoft.datawrangler.viewer.v0+json": {
       "columns": [
        {
         "name": "index",
         "rawType": "int64",
         "type": "integer"
        },
        {
         "name": "From Home",
         "rawType": "float64",
         "type": "float"
        },
        {
         "name": "From Hashtags",
         "rawType": "float64",
         "type": "float"
        },
        {
         "name": "From Explore",
         "rawType": "float64",
         "type": "float"
        },
        {
         "name": "Saves",
         "rawType": "float64",
         "type": "float"
        },
        {
         "name": "Shares",
         "rawType": "float64",
         "type": "float"
        },
        {
         "name": "Likes",
         "rawType": "float64",
         "type": "float"
        },
        {
         "name": "Profile Visits",
         "rawType": "float64",
         "type": "float"
        },
        {
         "name": "Follows",
         "rawType": "float64",
         "type": "float"
        },
        {
         "name": "num_hashtags",
         "rawType": "float64",
         "type": "float"
        }
       ],
       "ref": "487d0302-86cf-4777-bcfa-9ebc35ae776a",
       "rows": [
        [
         "0",
         "0.11774716369529982",
         "0.07794205623450988",
         "0.03554611232341794",
         "0.07082945013979497",
         "0.06666666666666667",
         "0.18867924528301888",
         "0.051070840197693576",
         "0.007692307692307693",
         "0.6000000000000001"
        ],
        [
         "1",
         "0.1291734197730956",
         "0.14716690881121272",
         "0.06741702078787183",
         "0.16029822926374648",
         "0.18666666666666668",
         "0.31865828092243187",
         "0.07248764415156508",
         "0.038461538461538464",
         "0.4"
        ],
        [
         "2",
         "0.07714748784440843",
         "0.09161610118793266",
         "0.0",
         "0.017707362534948742",
         "0.013333333333333334",
         "0.12368972746331236",
         "0.09555189456342669",
         "0.046153846153846156",
         "0.4"
        ],
        [
         "3",
         "0.12698541329011342",
         "0.04315870438424066",
         "0.05352015619616401",
         "0.13979496738117428",
         "0.09333333333333334",
         "0.29559748427672955",
         "0.03130148270181219",
         "0.03076923076923077",
         "0.050000000000000044"
        ],
        [
         "4",
         "0.04627228525121556",
         "0.011879326553286045",
         "0.016021591822671415",
         "0.06896551724137931",
         "0.05333333333333334",
         "0.10691823899371067",
         "0.006589785831960461",
         "0.0",
         "0.9500000000000002"
        ]
       ],
       "shape": {
        "columns": 9,
        "rows": 5
       }
      },
      "text/html": [
       "<div>\n",
       "<style scoped>\n",
       "    .dataframe tbody tr th:only-of-type {\n",
       "        vertical-align: middle;\n",
       "    }\n",
       "\n",
       "    .dataframe tbody tr th {\n",
       "        vertical-align: top;\n",
       "    }\n",
       "\n",
       "    .dataframe thead th {\n",
       "        text-align: right;\n",
       "    }\n",
       "</style>\n",
       "<table border=\"1\" class=\"dataframe\">\n",
       "  <thead>\n",
       "    <tr style=\"text-align: right;\">\n",
       "      <th></th>\n",
       "      <th>From Home</th>\n",
       "      <th>From Hashtags</th>\n",
       "      <th>From Explore</th>\n",
       "      <th>Saves</th>\n",
       "      <th>Shares</th>\n",
       "      <th>Likes</th>\n",
       "      <th>Profile Visits</th>\n",
       "      <th>Follows</th>\n",
       "      <th>num_hashtags</th>\n",
       "    </tr>\n",
       "  </thead>\n",
       "  <tbody>\n",
       "    <tr>\n",
       "      <th>0</th>\n",
       "      <td>0.117747</td>\n",
       "      <td>0.077942</td>\n",
       "      <td>0.035546</td>\n",
       "      <td>0.070829</td>\n",
       "      <td>0.066667</td>\n",
       "      <td>0.188679</td>\n",
       "      <td>0.051071</td>\n",
       "      <td>0.007692</td>\n",
       "      <td>0.60</td>\n",
       "    </tr>\n",
       "    <tr>\n",
       "      <th>1</th>\n",
       "      <td>0.129173</td>\n",
       "      <td>0.147167</td>\n",
       "      <td>0.067417</td>\n",
       "      <td>0.160298</td>\n",
       "      <td>0.186667</td>\n",
       "      <td>0.318658</td>\n",
       "      <td>0.072488</td>\n",
       "      <td>0.038462</td>\n",
       "      <td>0.40</td>\n",
       "    </tr>\n",
       "    <tr>\n",
       "      <th>2</th>\n",
       "      <td>0.077147</td>\n",
       "      <td>0.091616</td>\n",
       "      <td>0.000000</td>\n",
       "      <td>0.017707</td>\n",
       "      <td>0.013333</td>\n",
       "      <td>0.123690</td>\n",
       "      <td>0.095552</td>\n",
       "      <td>0.046154</td>\n",
       "      <td>0.40</td>\n",
       "    </tr>\n",
       "    <tr>\n",
       "      <th>3</th>\n",
       "      <td>0.126985</td>\n",
       "      <td>0.043159</td>\n",
       "      <td>0.053520</td>\n",
       "      <td>0.139795</td>\n",
       "      <td>0.093333</td>\n",
       "      <td>0.295597</td>\n",
       "      <td>0.031301</td>\n",
       "      <td>0.030769</td>\n",
       "      <td>0.05</td>\n",
       "    </tr>\n",
       "    <tr>\n",
       "      <th>4</th>\n",
       "      <td>0.046272</td>\n",
       "      <td>0.011879</td>\n",
       "      <td>0.016022</td>\n",
       "      <td>0.068966</td>\n",
       "      <td>0.053333</td>\n",
       "      <td>0.106918</td>\n",
       "      <td>0.006590</td>\n",
       "      <td>0.000000</td>\n",
       "      <td>0.95</td>\n",
       "    </tr>\n",
       "  </tbody>\n",
       "</table>\n",
       "</div>"
      ],
      "text/plain": [
       "   From Home  From Hashtags  From Explore     Saves    Shares     Likes  \\\n",
       "0   0.117747       0.077942      0.035546  0.070829  0.066667  0.188679   \n",
       "1   0.129173       0.147167      0.067417  0.160298  0.186667  0.318658   \n",
       "2   0.077147       0.091616      0.000000  0.017707  0.013333  0.123690   \n",
       "3   0.126985       0.043159      0.053520  0.139795  0.093333  0.295597   \n",
       "4   0.046272       0.011879      0.016022  0.068966  0.053333  0.106918   \n",
       "\n",
       "   Profile Visits   Follows  num_hashtags  \n",
       "0        0.051071  0.007692          0.60  \n",
       "1        0.072488  0.038462          0.40  \n",
       "2        0.095552  0.046154          0.40  \n",
       "3        0.031301  0.030769          0.05  \n",
       "4        0.006590  0.000000          0.95  "
      ]
     },
     "execution_count": 24,
     "metadata": {},
     "output_type": "execute_result"
    }
   ],
   "source": [
    "scaler = MinMaxScaler()\n",
    "group_scale = x.columns\n",
    "x[group_scale] = scaler.fit_transform(x[group_scale])\n",
    "x.head()"
   ]
  },
  {
   "cell_type": "code",
   "execution_count": 25,
   "id": "15892e0c",
   "metadata": {},
   "outputs": [],
   "source": [
    "x_train, x_test, y_train, y_test = train_test_split(x, y, test_size= 0.2, \n",
    "                                                    random_state= 42)"
   ]
  },
  {
   "cell_type": "markdown",
   "id": "28e3a9fa",
   "metadata": {},
   "source": [
    "Train Passive aggressive regressor\n",
    "\n",
    "Useful for online training but let's compare it's performnace"
   ]
  },
  {
   "cell_type": "code",
   "execution_count": 26,
   "id": "a6c6e9a3",
   "metadata": {},
   "outputs": [
    {
     "name": "stderr",
     "output_type": "stream",
     "text": [
      "c:\\Users\\HP\\anaconda3\\Lib\\site-packages\\sklearn\\linear_model\\_stochastic_gradient.py:1616: ConvergenceWarning: Maximum number of iteration reached before convergence. Consider increasing max_iter to improve the fit.\n",
      "  warnings.warn(\n"
     ]
    },
    {
     "data": {
      "text/plain": [
       "0.8560164722602596"
      ]
     },
     "execution_count": 26,
     "metadata": {},
     "output_type": "execute_result"
    }
   ],
   "source": [
    "model = PassiveAggressiveRegressor(max_iter= 1200)\n",
    "model.fit(x_train, y_train)\n",
    "model.score(x_test, y_test)"
   ]
  },
  {
   "cell_type": "code",
   "execution_count": 27,
   "id": "bace2bca",
   "metadata": {},
   "outputs": [
    {
     "name": "stderr",
     "output_type": "stream",
     "text": [
      "c:\\Users\\HP\\anaconda3\\Lib\\site-packages\\sklearn\\linear_model\\_stochastic_gradient.py:1616: ConvergenceWarning: Maximum number of iteration reached before convergence. Consider increasing max_iter to improve the fit.\n",
      "  warnings.warn(\n",
      "c:\\Users\\HP\\anaconda3\\Lib\\site-packages\\sklearn\\linear_model\\_stochastic_gradient.py:1616: ConvergenceWarning: Maximum number of iteration reached before convergence. Consider increasing max_iter to improve the fit.\n",
      "  warnings.warn(\n",
      "c:\\Users\\HP\\anaconda3\\Lib\\site-packages\\sklearn\\linear_model\\_stochastic_gradient.py:1616: ConvergenceWarning: Maximum number of iteration reached before convergence. Consider increasing max_iter to improve the fit.\n",
      "  warnings.warn(\n"
     ]
    },
    {
     "name": "stdout",
     "output_type": "stream",
     "text": [
      "Cross-validated R² scores for PAR: [0.9440994  0.9734121  0.94509691 0.92703858 0.59675215]\n",
      "Mean: 0.877279829404873\n"
     ]
    },
    {
     "name": "stderr",
     "output_type": "stream",
     "text": [
      "c:\\Users\\HP\\anaconda3\\Lib\\site-packages\\sklearn\\linear_model\\_stochastic_gradient.py:1616: ConvergenceWarning: Maximum number of iteration reached before convergence. Consider increasing max_iter to improve the fit.\n",
      "  warnings.warn(\n",
      "c:\\Users\\HP\\anaconda3\\Lib\\site-packages\\sklearn\\linear_model\\_stochastic_gradient.py:1616: ConvergenceWarning: Maximum number of iteration reached before convergence. Consider increasing max_iter to improve the fit.\n",
      "  warnings.warn(\n"
     ]
    }
   ],
   "source": [
    "scores = cross_val_score(model, x, y, cv=5, scoring='r2')\n",
    "print(\"Cross-validated R² scores for PAR:\", scores)\n",
    "print(\"Mean:\", scores.mean())"
   ]
  },
  {
   "cell_type": "markdown",
   "id": "13101c01",
   "metadata": {},
   "source": [
    "Train xgboost regressor"
   ]
  },
  {
   "cell_type": "code",
   "execution_count": null,
   "id": "824d3c71",
   "metadata": {},
   "outputs": [],
   "source": []
  },
  {
   "cell_type": "markdown",
   "id": "126b1d71",
   "metadata": {},
   "source": [
    "Training the RandomForestRegressor"
   ]
  },
  {
   "cell_type": "code",
   "execution_count": 28,
   "id": "e5f4f07e",
   "metadata": {},
   "outputs": [
    {
     "data": {
      "text/plain": [
       "0.923546450818374"
      ]
     },
     "execution_count": 28,
     "metadata": {},
     "output_type": "execute_result"
    }
   ],
   "source": [
    "rf_model = RandomForestRegressor(max_depth= 3)\n",
    "rf_model.fit(x_train, y_train)\n",
    "rf_model.score(x_test, y_test)"
   ]
  },
  {
   "cell_type": "markdown",
   "id": "651fc216",
   "metadata": {},
   "source": [
    "The test data does well, but the cross validated score is not good enough"
   ]
  },
  {
   "cell_type": "code",
   "execution_count": 29,
   "id": "9ff17d37",
   "metadata": {},
   "outputs": [
    {
     "name": "stdout",
     "output_type": "stream",
     "text": [
      "Cross-validated R² scores for RFR: [0.51127586 0.91137257 0.85550163 0.74034848 0.32539551]\n",
      "Mean: 0.6687788100368106\n"
     ]
    }
   ],
   "source": [
    "scores = cross_val_score(rf_model, x, y, cv=5, scoring='r2')\n",
    "print(\"Cross-validated R² scores for RFR:\", scores)\n",
    "print(\"Mean:\", scores.mean())"
   ]
  },
  {
   "cell_type": "markdown",
   "id": "13b2c206",
   "metadata": {},
   "source": [
    "Checking the most important features"
   ]
  },
  {
   "cell_type": "code",
   "execution_count": 30,
   "id": "1db155b2",
   "metadata": {},
   "outputs": [
    {
     "data": {
      "image/png": "[encoded data removed]",
      "text/plain": [
       "<Figure size 640x480 with 1 Axes>"
      ]
     },
     "metadata": {},
     "output_type": "display_data"
    }
   ],
   "source": [
    "import matplotlib.pyplot as plt\n",
    "\n",
    "importances = rf_model.feature_importances_\n",
    "features = x.columns\n",
    "plt.barh(features, importances)\n",
    "plt.xlabel('Importance')\n",
    "plt.title('Feature Importance')\n",
    "plt.show()\n"
   ]
  }
 ],
 "metadata": {
  "kernelspec": {
   "display_name": "base",
   "language": "python",
   "name": "python3"
  },
  "language_info": {
   "codemirror_mode": {
    "name": "ipython",
    "version": 3
   },
   "file_extension": ".py",
   "mimetype": "text/x-python",
   "name": "python",
   "nbconvert_exporter": "python",
   "pygments_lexer": "ipython3",
   "version": "3.12.7"
  }
 },
 "nbformat": 4,
 "nbformat_minor": 5
}
