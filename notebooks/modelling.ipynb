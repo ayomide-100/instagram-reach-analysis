{
 "cells": [
  {
   "cell_type": "code",
   "execution_count": 1,
   "id": "c3b322b2",
   "metadata": {},
   "outputs": [],
   "source": [
    "import os\n",
    "import sys\n",
    "import numpy as np\n",
    "import pandas as pd\n",
    "from wordcloud import WordCloud, STOPWORDS\n",
    "from sklearn.preprocessing import StandardScaler\n",
    "from sklearn.model_selection import train_test_split\n",
    "from sklearn.preprocessing import StandardScaler, MinMaxScaler\n",
    "from sklearn.model_selection import cross_val_score\n",
    "from sklearn.metrics import mean_squared_error\n",
    "import xgboost\n",
    "from sklearn.pipeline import make_pipeline, Pipeline, FunctionTransformer\n",
    "from sklearn.base import BaseEstimator, TransformerMixin\n",
    "from sklearn.compose import make_column_transformer, make_column_selector\n"
   ]
  },
  {
   "cell_type": "code",
   "execution_count": 3,
   "id": "7f678432",
   "metadata": {},
   "outputs": [
    {
     "data": {
      "application/vnd.microsoft.datawrangler.viewer.v0+json": {
       "columns": [
        {
         "name": "index",
         "rawType": "int64",
         "type": "integer"
        },
        {
         "name": "Unnamed: 0",
         "rawType": "int64",
         "type": "integer"
        },
        {
         "name": "Impressions",
         "rawType": "int64",
         "type": "integer"
        },
        {
         "name": "From Home",
         "rawType": "int64",
         "type": "integer"
        },
        {
         "name": "From Hashtags",
         "rawType": "int64",
         "type": "integer"
        },
        {
         "name": "From Explore",
         "rawType": "int64",
         "type": "integer"
        },
        {
         "name": "From Other",
         "rawType": "int64",
         "type": "integer"
        },
        {
         "name": "Saves",
         "rawType": "int64",
         "type": "integer"
        },
        {
         "name": "Comments",
         "rawType": "int64",
         "type": "integer"
        },
        {
         "name": "Shares",
         "rawType": "int64",
         "type": "integer"
        },
        {
         "name": "Likes",
         "rawType": "int64",
         "type": "integer"
        },
        {
         "name": "Profile Visits",
         "rawType": "int64",
         "type": "integer"
        },
        {
         "name": "Follows",
         "rawType": "int64",
         "type": "integer"
        },
        {
         "name": "Caption",
         "rawType": "object",
         "type": "string"
        },
        {
         "name": "Hashtags",
         "rawType": "object",
         "type": "string"
        },
        {
         "name": "Timestamp",
         "rawType": "object",
         "type": "string"
        },
        {
         "name": "Content Type",
         "rawType": "object",
         "type": "string"
        },
        {
         "name": "CaptionLength",
         "rawType": "int64",
         "type": "integer"
        },
        {
         "name": "DayOfWeek",
         "rawType": "int64",
         "type": "integer"
        },
        {
         "name": "EngagementRate",
         "rawType": "float64",
         "type": "float"
        },
        {
         "name": "HashtagCount",
         "rawType": "int64",
         "type": "integer"
        },
        {
         "name": "HashtagDensity",
         "rawType": "float64",
         "type": "float"
        },
        {
         "name": "FromHomeRatio",
         "rawType": "float64",
         "type": "float"
        },
        {
         "name": "FromHashtagsRatio",
         "rawType": "float64",
         "type": "float"
        },
        {
         "name": "FromExploreRatio",
         "rawType": "float64",
         "type": "float"
        },
        {
         "name": "FromOtherRatio",
         "rawType": "float64",
         "type": "float"
        },
        {
         "name": "IsWeekend",
         "rawType": "int64",
         "type": "integer"
        },
        {
         "name": "Month",
         "rawType": "int64",
         "type": "integer"
        },
        {
         "name": "HourOfDay",
         "rawType": "int64",
         "type": "integer"
        },
        {
         "name": "NumOfHashtags",
         "rawType": "int64",
         "type": "integer"
        }
       ],
       "ref": "387fe16d-6005-4232-916f-adcaaea111c3",
       "rows": [
        [
         "0",
         "0",
         "3920",
         "2586",
         "1028",
         "619",
         "56",
         "98",
         "9",
         "5",
         "162",
         "35",
         "2",
         "important data visualization every financial data analystscientist know",
         "#finance#money#business#investing#investment#trading#stockmarket#data#datascience#dataanalysis#dataanalytics#datascientist#machinelearning#python#pythonprogramming#pythonprojects#pythoncode#artificialintelligence#ai#dataanalyst#amankharwal#thecleverprogrammer",
         "2024-05-14 22:59:29.747899160",
         "carousel",
         "8",
         "1",
         "0.0698979591836734",
         "1",
         "0.1111111111111111",
         "0.6596938775510204",
         "0.2622448979591836",
         "0.1579081632653061",
         "0.0142857142857142",
         "0",
         "5",
         "22",
         "22"
        ],
        [
         "1",
         "1",
         "5394",
         "2727",
         "1838",
         "1174",
         "78",
         "194",
         "7",
         "14",
         "224",
         "48",
         "10",
         "best data science project idea healthcare want become data science professional healthcare domain must try work project",
         "#healthcare#health#covid#data#datascience#dataanalysis#dataanalytics#datascientist#machinelearning#python#pythonprogramming#pythonprojects#pythoncode#artificialintelligence#ai#dataanalyst#amankharwal#thecleverprogrammer",
         "2024-05-24 03:49:54.957983192",
         "carousel",
         "17",
         "4",
         "0.0813867259918427",
         "1",
         "0.0555555555555555",
         "0.5055617352614016",
         "0.3407489803485354",
         "0.2176492398961809",
         "0.014460511679644",
         "0",
         "5",
         "3",
         "18"
        ],
        [
         "2",
         "2",
         "4021",
         "2085",
         "1188",
         "0",
         "533",
         "41",
         "11",
         "1",
         "131",
         "62",
         "12",
         "learn train machine learning model giving input trained model make prediction using python",
         "#data#datascience#dataanalysis#dataanalytics#datascientist#machinelearning#python#pythonprogramming#pythonprojects#pythoncode#artificialintelligence#ai#deeplearning#machinelearningprojects#datascienceprojects#amankharwal#thecleverprogrammer#machinelearningmodels",
         "2024-01-13 06:27:13.613445378",
         "image",
         "13",
         "5",
         "0.0457597612534195",
         "1",
         "0.0714285714285714",
         "0.5185277294205421",
         "0.2954488933101218",
         "0.0",
         "0.1325540910221338",
         "1",
         "1",
         "6",
         "18"
        ],
        [
         "3",
         "3",
         "4528",
         "2700",
         "621",
         "932",
         "73",
         "172",
         "10",
         "7",
         "213",
         "23",
         "8",
         "here write python program detect whether sentence question idea find word see beginning question beginning sentence",
         "#python#pythonprogramming#pythonprojects#pythoncode#pythonlearning#pythondeveloper#pythoncoding#pythonprogrammer#amankharwal#thecleverprogrammer#pythonprojects",
         "2024-06-17 16:44:22.184873950",
         "carousel",
         "16",
         "0",
         "0.0887809187279152",
         "1",
         "0.0588235294117647",
         "0.5962897526501767",
         "0.1371466431095406",
         "0.2058303886925795",
         "0.0161219081272084",
         "0",
         "6",
         "16",
         "11"
        ],
        [
         "4",
         "4",
         "2518",
         "1704",
         "255",
         "279",
         "37",
         "96",
         "5",
         "4",
         "123",
         "8",
         "0",
         "plotting annotation visualizing data considered good practice make graph selfexplanatory example annotate graph using python",
         "#datavisualization#datascience#data#dataanalytics#machinelearning#dataanalysis#artificialintelligence#python#datascientist#bigdata#deeplearning#dataviz#ai#analytics#technology#dataanalyst#programming#pythonprogramming#statistics#coding#businessintelligence#datamining#tech#business#computerscience#tableau#database#thecleverprogrammer#amankharwal",
         "2024-03-20 17:56:58.487394958",
         "video",
         "15",
         "2",
         "0.0905480540111199",
         "1",
         "0.0625",
         "0.6767275615567911",
         "0.1012708498808578",
         "0.1108022239872915",
         "0.0146942017474185",
         "0",
         "3",
         "17",
         "29"
        ]
       ],
       "shape": {
        "columns": 29,
        "rows": 5
       }
      },
      "text/html": [
       "<div>\n",
       "<style scoped>\n",
       "    .dataframe tbody tr th:only-of-type {\n",
       "        vertical-align: middle;\n",
       "    }\n",
       "\n",
       "    .dataframe tbody tr th {\n",
       "        vertical-align: top;\n",
       "    }\n",
       "\n",
       "    .dataframe thead th {\n",
       "        text-align: right;\n",
       "    }\n",
       "</style>\n",
       "<table border=\"1\" class=\"dataframe\">\n",
       "  <thead>\n",
       "    <tr style=\"text-align: right;\">\n",
       "      <th></th>\n",
       "      <th>Unnamed: 0</th>\n",
       "      <th>Impressions</th>\n",
       "      <th>From Home</th>\n",
       "      <th>From Hashtags</th>\n",
       "      <th>From Explore</th>\n",
       "      <th>From Other</th>\n",
       "      <th>Saves</th>\n",
       "      <th>Comments</th>\n",
       "      <th>Shares</th>\n",
       "      <th>Likes</th>\n",
       "      <th>...</th>\n",
       "      <th>HashtagCount</th>\n",
       "      <th>HashtagDensity</th>\n",
       "      <th>FromHomeRatio</th>\n",
       "      <th>FromHashtagsRatio</th>\n",
       "      <th>FromExploreRatio</th>\n",
       "      <th>FromOtherRatio</th>\n",
       "      <th>IsWeekend</th>\n",
       "      <th>Month</th>\n",
       "      <th>HourOfDay</th>\n",
       "      <th>NumOfHashtags</th>\n",
       "    </tr>\n",
       "  </thead>\n",
       "  <tbody>\n",
       "    <tr>\n",
       "      <th>0</th>\n",
       "      <td>0</td>\n",
       "      <td>3920</td>\n",
       "      <td>2586</td>\n",
       "      <td>1028</td>\n",
       "      <td>619</td>\n",
       "      <td>56</td>\n",
       "      <td>98</td>\n",
       "      <td>9</td>\n",
       "      <td>5</td>\n",
       "      <td>162</td>\n",
       "      <td>...</td>\n",
       "      <td>1</td>\n",
       "      <td>0.111111</td>\n",
       "      <td>0.659694</td>\n",
       "      <td>0.262245</td>\n",
       "      <td>0.157908</td>\n",
       "      <td>0.014286</td>\n",
       "      <td>0</td>\n",
       "      <td>5</td>\n",
       "      <td>22</td>\n",
       "      <td>22</td>\n",
       "    </tr>\n",
       "    <tr>\n",
       "      <th>1</th>\n",
       "      <td>1</td>\n",
       "      <td>5394</td>\n",
       "      <td>2727</td>\n",
       "      <td>1838</td>\n",
       "      <td>1174</td>\n",
       "      <td>78</td>\n",
       "      <td>194</td>\n",
       "      <td>7</td>\n",
       "      <td>14</td>\n",
       "      <td>224</td>\n",
       "      <td>...</td>\n",
       "      <td>1</td>\n",
       "      <td>0.055556</td>\n",
       "      <td>0.505562</td>\n",
       "      <td>0.340749</td>\n",
       "      <td>0.217649</td>\n",
       "      <td>0.014461</td>\n",
       "      <td>0</td>\n",
       "      <td>5</td>\n",
       "      <td>3</td>\n",
       "      <td>18</td>\n",
       "    </tr>\n",
       "    <tr>\n",
       "      <th>2</th>\n",
       "      <td>2</td>\n",
       "      <td>4021</td>\n",
       "      <td>2085</td>\n",
       "      <td>1188</td>\n",
       "      <td>0</td>\n",
       "      <td>533</td>\n",
       "      <td>41</td>\n",
       "      <td>11</td>\n",
       "      <td>1</td>\n",
       "      <td>131</td>\n",
       "      <td>...</td>\n",
       "      <td>1</td>\n",
       "      <td>0.071429</td>\n",
       "      <td>0.518528</td>\n",
       "      <td>0.295449</td>\n",
       "      <td>0.000000</td>\n",
       "      <td>0.132554</td>\n",
       "      <td>1</td>\n",
       "      <td>1</td>\n",
       "      <td>6</td>\n",
       "      <td>18</td>\n",
       "    </tr>\n",
       "    <tr>\n",
       "      <th>3</th>\n",
       "      <td>3</td>\n",
       "      <td>4528</td>\n",
       "      <td>2700</td>\n",
       "      <td>621</td>\n",
       "      <td>932</td>\n",
       "      <td>73</td>\n",
       "      <td>172</td>\n",
       "      <td>10</td>\n",
       "      <td>7</td>\n",
       "      <td>213</td>\n",
       "      <td>...</td>\n",
       "      <td>1</td>\n",
       "      <td>0.058824</td>\n",
       "      <td>0.596290</td>\n",
       "      <td>0.137147</td>\n",
       "      <td>0.205830</td>\n",
       "      <td>0.016122</td>\n",
       "      <td>0</td>\n",
       "      <td>6</td>\n",
       "      <td>16</td>\n",
       "      <td>11</td>\n",
       "    </tr>\n",
       "    <tr>\n",
       "      <th>4</th>\n",
       "      <td>4</td>\n",
       "      <td>2518</td>\n",
       "      <td>1704</td>\n",
       "      <td>255</td>\n",
       "      <td>279</td>\n",
       "      <td>37</td>\n",
       "      <td>96</td>\n",
       "      <td>5</td>\n",
       "      <td>4</td>\n",
       "      <td>123</td>\n",
       "      <td>...</td>\n",
       "      <td>1</td>\n",
       "      <td>0.062500</td>\n",
       "      <td>0.676728</td>\n",
       "      <td>0.101271</td>\n",
       "      <td>0.110802</td>\n",
       "      <td>0.014694</td>\n",
       "      <td>0</td>\n",
       "      <td>3</td>\n",
       "      <td>17</td>\n",
       "      <td>29</td>\n",
       "    </tr>\n",
       "  </tbody>\n",
       "</table>\n",
       "<p>5 rows × 29 columns</p>\n",
       "</div>"
      ],
      "text/plain": [
       "   Unnamed: 0  Impressions  From Home  From Hashtags  From Explore  \\\n",
       "0           0         3920       2586           1028           619   \n",
       "1           1         5394       2727           1838          1174   \n",
       "2           2         4021       2085           1188             0   \n",
       "3           3         4528       2700            621           932   \n",
       "4           4         2518       1704            255           279   \n",
       "\n",
       "   From Other  Saves  Comments  Shares  Likes  ...  HashtagCount  \\\n",
       "0          56     98         9       5    162  ...             1   \n",
       "1          78    194         7      14    224  ...             1   \n",
       "2         533     41        11       1    131  ...             1   \n",
       "3          73    172        10       7    213  ...             1   \n",
       "4          37     96         5       4    123  ...             1   \n",
       "\n",
       "   HashtagDensity FromHomeRatio FromHashtagsRatio FromExploreRatio  \\\n",
       "0        0.111111      0.659694          0.262245         0.157908   \n",
       "1        0.055556      0.505562          0.340749         0.217649   \n",
       "2        0.071429      0.518528          0.295449         0.000000   \n",
       "3        0.058824      0.596290          0.137147         0.205830   \n",
       "4        0.062500      0.676728          0.101271         0.110802   \n",
       "\n",
       "  FromOtherRatio  IsWeekend  Month  HourOfDay  NumOfHashtags  \n",
       "0       0.014286          0      5         22             22  \n",
       "1       0.014461          0      5          3             18  \n",
       "2       0.132554          1      1          6             18  \n",
       "3       0.016122          0      6         16             11  \n",
       "4       0.014694          0      3         17             29  \n",
       "\n",
       "[5 rows x 29 columns]"
      ]
     },
     "execution_count": 3,
     "metadata": {},
     "output_type": "execute_result"
    }
   ],
   "source": [
    "#sys.path.append(os.path.abspath('../data'))\n",
    "df = pd.read_csv(\"../data/processed/clean_data.csv\", encoding = 'utf-8', encoding_errors=\"ignore\")\n",
    "(df.head())"
   ]
  },
  {
   "cell_type": "code",
   "execution_count": 5,
   "id": "38641389",
   "metadata": {},
   "outputs": [],
   "source": [
    "df = df.drop(\"Unnamed: 0\", axis=1)"
   ]
  },
  {
   "cell_type": "code",
   "execution_count": 6,
   "id": "689075d7",
   "metadata": {},
   "outputs": [
    {
     "data": {
      "text/plain": [
       "(119, 28)"
      ]
     },
     "execution_count": 6,
     "metadata": {},
     "output_type": "execute_result"
    }
   ],
   "source": [
    "df.shape"
   ]
  },
  {
   "cell_type": "code",
   "execution_count": 4,
   "id": "e3eeac00",
   "metadata": {},
   "outputs": [
    {
     "data": {
      "application/vnd.microsoft.datawrangler.viewer.v0+json": {
       "columns": [
        {
         "name": "index",
         "rawType": "int64",
         "type": "integer"
        },
        {
         "name": "Impressions",
         "rawType": "int64",
         "type": "integer"
        }
       ],
       "ref": "9e9d0e1c-c1f3-4546-b1e5-0133ea3381d6",
       "rows": [
        [
         "0",
         "3920"
        ],
        [
         "1",
         "5394"
        ],
        [
         "2",
         "4021"
        ],
        [
         "3",
         "4528"
        ],
        [
         "4",
         "2518"
        ],
        [
         "5",
         "3884"
        ],
        [
         "6",
         "2621"
        ],
        [
         "7",
         "3541"
        ],
        [
         "8",
         "3749"
        ],
        [
         "9",
         "4115"
        ],
        [
         "10",
         "2218"
        ],
        [
         "11",
         "3234"
        ],
        [
         "12",
         "4344"
        ],
        [
         "13",
         "3216"
        ],
        [
         "14",
         "9453"
        ],
        [
         "15",
         "5055"
        ],
        [
         "16",
         "4002"
        ],
        [
         "17",
         "3169"
        ],
        [
         "18",
         "6168"
        ],
        [
         "19",
         "2407"
        ],
        [
         "20",
         "2064"
        ],
        [
         "21",
         "3973"
        ],
        [
         "22",
         "7281"
        ],
        [
         "23",
         "3052"
        ],
        [
         "24",
         "4628"
        ],
        [
         "25",
         "4082"
        ],
        [
         "26",
         "5394"
        ],
        [
         "27",
         "2766"
        ],
        [
         "28",
         "3924"
        ],
        [
         "29",
         "3015"
        ],
        [
         "30",
         "6666"
        ],
        [
         "31",
         "3854"
        ],
        [
         "32",
         "4355"
        ],
        [
         "33",
         "4343"
        ],
        [
         "34",
         "6108"
        ],
        [
         "35",
         "2523"
        ],
        [
         "36",
         "2327"
        ],
        [
         "37",
         "3990"
        ],
        [
         "38",
         "2191"
        ],
        [
         "39",
         "1941"
        ],
        [
         "40",
         "16062"
        ],
        [
         "41",
         "4998"
        ],
        [
         "42",
         "4289"
        ],
        [
         "43",
         "3880"
        ],
        [
         "44",
         "3786"
        ],
        [
         "45",
         "4298"
        ],
        [
         "46",
         "3630"
        ],
        [
         "47",
         "2826"
        ],
        [
         "48",
         "7407"
        ],
        [
         "49",
         "10386"
        ]
       ],
       "shape": {
        "columns": 1,
        "rows": 119
       }
      },
      "text/plain": [
       "0       3920\n",
       "1       5394\n",
       "2       4021\n",
       "3       4528\n",
       "4       2518\n",
       "       ...  \n",
       "114    13700\n",
       "115     5731\n",
       "116     4139\n",
       "117    32695\n",
       "118    36919\n",
       "Name: Impressions, Length: 119, dtype: int64"
      ]
     },
     "execution_count": 4,
     "metadata": {},
     "output_type": "execute_result"
    }
   ],
   "source": [
    "y = df[\"Impressions\"]\n",
    "y"
   ]
  },
  {
   "cell_type": "code",
   "execution_count": 25,
   "id": "15892e0c",
   "metadata": {},
   "outputs": [],
   "source": [
    "x_train, x_test, y_train, y_test = train_test_split(x, y, test_size= 0.2, \n",
    "                                                    random_state= 42)"
   ]
  },
  {
   "cell_type": "markdown",
   "id": "13101c01",
   "metadata": {},
   "source": [
    "Train xgboost regressor"
   ]
  },
  {
   "cell_type": "code",
   "execution_count": null,
   "id": "824d3c71",
   "metadata": {},
   "outputs": [],
   "source": []
  },
  {
   "cell_type": "code",
   "execution_count": 30,
   "id": "1db155b2",
   "metadata": {},
   "outputs": [
    {
     "data": {
      "image/png": "[encoded data removed]",
      "text/plain": [
       "<Figure size 640x480 with 1 Axes>"
      ]
     },
     "metadata": {},
     "output_type": "display_data"
    }
   ],
   "source": [
    "import matplotlib.pyplot as plt\n",
    "\n",
    "importances = rf_model.feature_importances_\n",
    "features = x.columns\n",
    "plt.barh(features, importances)\n",
    "plt.xlabel('Importance')\n",
    "plt.title('Feature Importance')\n",
    "plt.show()\n"
   ]
  }
 ],
 "metadata": {
  "kernelspec": {
   "display_name": "base",
   "language": "python",
   "name": "python3"
  },
  "language_info": {
   "codemirror_mode": {
    "name": "ipython",
    "version": 3
   },
   "file_extension": ".py",
   "mimetype": "text/x-python",
   "name": "python",
   "nbconvert_exporter": "python",
   "pygments_lexer": "ipython3",
   "version": "3.12.7"
  }
 },
 "nbformat": 4,
 "nbformat_minor": 5
}
